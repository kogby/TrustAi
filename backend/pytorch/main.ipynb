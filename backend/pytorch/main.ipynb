{
 "cells": [
  {
   "cell_type": "markdown",
   "id": "weighted-growing",
   "metadata": {},
   "source": [
    "# PACKAGES"
   ]
  },
  {
   "cell_type": "code",
   "execution_count": 1,
   "id": "wound-chemistry",
   "metadata": {},
   "outputs": [],
   "source": [
    "# always needed\n",
    "import os, random, math\n",
    "from math import gamma\n",
    "from tabnanny import verbose # 偵測不良縮排\n",
    "import pandas as pd\n",
    "import numpy as np\n",
    "\n",
    "# torch\n",
    "import torch\n",
    "import torch.nn\n",
    "import torch.nn as nn\n",
    "import torch.nn.functional as F\n",
    "import torch.optim as optim\n",
    "from torch.utils.data import Dataset, DataLoader\n",
    "from torch.utils.data.sampler import SubsetRandomSampler\n",
    "\n",
    "\n",
    "# For plotting \"learning curve\"\n",
    "# from torch.utils.tensorboard import SummaryWriter  #電腦好像找不到 tensorboard\n",
    "%matplotlib inline\n",
    "from tqdm.auto import tqdm\n",
    "\n",
    "# others\n",
    "import matplotlib.pyplot as plt\n",
    "from PIL import Image\n",
    "\n",
    "# sklearn\n",
    "from sklearn.model_selection import train_test_split\n",
    "\n",
    "# seeds\n",
    "def same_seeds(seed):\n",
    "    torch.manual_seed(seed)\n",
    "    if torch.cuda.is_available():\n",
    "        torch.cuda.manual_seed(seed)\n",
    "        torch.cuda.manual_seed_all(seed)\n",
    "    np.random.seed(seed)\n",
    "    random.seed(seed)\n",
    "    torch.backends.cudnn.benchmark = False\n",
    "    torch.backends.cudnn.deterministic = True\n",
    "\n",
    "device = torch.device('cuda' if torch.cuda.is_available() else 'cpu')\n",
    "print('Using device:', device)"
   ]
  },
  {
   "cell_type": "code",
   "execution_count": 3,
   "id": "equipped-graphic",
   "metadata": {},
   "outputs": [],
   "source": [
    "if not os.path.isdir('./models'):\n",
    "    os.mkdir('./models')\n",
    "if not os.path.isdir('./models/model_weights'):\n",
    "    os.mkdir('./models/model_weights')\n",
    "\n",
    "config = {\n",
    "    'seed': 507,\n",
    "    'valid_ratio': 0.20,\n",
    "    'n_epochs': 100,\n",
    "    'batch_size': 16,\n",
    "    'learning_rate': 1e-3,\n",
    "    'early_stop': 10,\n",
    "    'query_iteration': 20,\n",
    "    'save_path_large': './models/model_weights/LargeModel.ckpt',\n",
    "    'save_path_small': './models/model_weights/SmallModel.ckpt',\n",
    "    'query_size': 20,\n",
    "    'pool_size': 300\n",
    "}"
   ]
  },
  {
   "cell_type": "markdown",
   "id": "tropical-undergraduate",
   "metadata": {},
   "source": [
    "# 寫入自定義資料集\n",
    "用unlabeled_mask來決定這筆 data被標注了沒，training的一部分跟所有的testing都是0<br>\n",
    "沒標注過的資料unlabeled_mask=1 <br>\n",
    "<i>專注在關心 index</i>\n",
    "<br>創建valid set的預測結果紀錄，之後的iteration若是預測錯誤，就會變成該筆該輪的C"
   ]
  },
  {
   "cell_type": "code",
   "execution_count": 4,
   "id": "transsexual-continent",
   "metadata": {},
   "outputs": [],
   "source": [
    "class IndexedDataset(Dataset):\n",
    "    # data loading\n",
    "    def __init__(self, df, TestOrValid=False, Valid=False):\n",
    "        #df = pd.read_csv(file_name)\n",
    "        self.x = torch.from_numpy(df.drop(columns=['Class']).to_numpy())\n",
    "        self.x = self.x.to(torch.float32)\n",
    "\n",
    "        '''真實的y, 但會顯示出的是label, 這邊的y幫助之後自動update unlabeled'''\n",
    "        self.hidden_y = torch.from_numpy(df['Class'].to_numpy())\n",
    "        self.n_samples = self.x.shape[0] #總共多少筆資料，不管有沒有label過\n",
    "        #print(self.x.shape[0]) 多少個資料\n",
    "\n",
    "        if TestOrValid: #如果是測試或驗證集，都會有答案的label\n",
    "            self.labels = self.hidden_y\n",
    "            self.unlabeled_mask = np.zeros(self.n_samples)\n",
    "        else :\n",
    "            self.labels = torch.from_numpy(np.array([-1]*self.n_samples)) #一開始將train label都設為-1\n",
    "            self.unlabeled_mask = np.ones(self.n_samples)\n",
    "\n",
    "        if Valid: #另外紀錄valid的一連串list\n",
    "            self.prediction_record =  [[] for _ in range(self.n_samples)] #所有instance在valid set都有一串拿來紀錄的list\n",
    "\n",
    "    # working for indexing\n",
    "    def __getitem__(self, idx):\n",
    "        return self.x[idx], self.labels[idx], idx\n",
    "    def __len__(self):\n",
    "        return self.n_samples\n",
    "\n",
    "    # 這筆資料的當前資訊\n",
    "    def display(self, idx):\n",
    "        print(f'Data for this X:{self.x[idx]}')\n",
    "        print(f'Label, mask for this X: label-{self.labels[idx]}, mask-{self.unlabeled_mask[idx]}')\n",
    "        return\n",
    "    def update_label_from_idx(self, idx):\n",
    "        self.labels[idx] = self.hidden_y[idx]\n",
    "        self.unlabeled_mask[idx] = 0 #代表他現在被標記了\n",
    "        return\n",
    "    def update_prediction_record(self, idx, prediction):\n",
    "        self.prediction_record[idx].append(prediction)\n",
    "        return"
   ]
  },
  {
   "cell_type": "code",
   "execution_count": 5,
   "id": "atomic-movie",
   "metadata": {},
   "outputs": [],
   "source": [
    "def plot_pred_record(pred_list):\n",
    "    fig, ax = plt.subplots()\n",
    "    ax.set_aspect('equal')\n",
    "    for i, lst in enumerate(pred_list):\n",
    "        for j, val in enumerate(lst):\n",
    "            color = 'green' if val == 1 else 'white'\n",
    "            rect = plt.Rectangle((j, i), 1, 1, facecolor=color, edgecolor='black')\n",
    "            ax.add_patch(rect)\n",
    "    ax.set_xlim(0, len(pred_list[0]))\n",
    "    ax.set_ylim(0, len(pred_list))\n",
    "    ax.set_xticks([])\n",
    "    ax.set_yticks([])\n",
    "    plt.show()\n",
    "def show_loss(train_loss, valid_loss):\n",
    "    fig, axes = plt.subplots(1, 2, figsize=(12, 5))\n",
    "    axes[0].plot(train_loss, color='blue', linewidth=2)\n",
    "    axes[0].set_title('Training Loss', fontsize=16)\n",
    "    axes[0].set_xlabel('iteration', fontsize=12)\n",
    "    axes[0].set_ylabel('Loss', fontsize=12)\n",
    "    axes[0].grid(True)\n",
    "    axes[0].spines['top'].set_visible(False)\n",
    "    axes[0].spines['right'].set_visible(False)\n",
    "\n",
    "    # Plot validation loss\n",
    "    axes[1].plot(valid_loss, color='red', linewidth=2)\n",
    "    axes[1].set_title('Validation Loss', fontsize=16)\n",
    "    axes[1].set_xlabel('time', fontsize=12)\n",
    "    axes[1].set_ylabel('Loss', fontsize=12)\n",
    "    axes[1].grid(True)\n",
    "    axes[1].spines['top'].set_visible(False)\n",
    "    axes[1].spines['right'].set_visible(False)\n",
    "    # Adjust the spacing between subplots\n",
    "    plt.subplots_adjust(wspace=0.3)\n",
    "    plt.show()"
   ]
  },
  {
   "cell_type": "markdown",
   "id": "working-notebook",
   "metadata": {},
   "source": [
    "## 重新規劃成三個index從0開始的資料集，互不干擾，方便丟進pytorch Loader"
   ]
  },
  {
   "cell_type": "code",
   "execution_count": 6,
   "id": "lined-shore",
   "metadata": {},
   "outputs": [
    {
     "name": "stdout",
     "output_type": "stream",
     "text": [
      "Training set shape: (8710, 17)\n",
      "Validation set shape: (2178, 17)\n",
      "Test set shape: (2723, 17)\n"
     ]
    }
   ],
   "source": [
    "df = pd.read_csv('./data/preprocessed_beans_train.csv')\n",
    "train_df, valid_df = train_test_split(df, test_size=0.2, random_state=42) # valid_ratio = 0.2\n",
    "train_df = train_df.reset_index(drop=True)\n",
    "valid_df = valid_df.reset_index(drop=True)\n",
    "\n",
    "test_df = pd.read_csv('./data/preprocessed_beans_test.csv')\n",
    "print(\"Training set shape:\", train_df.shape)\n",
    "print(\"Validation set shape:\", valid_df.shape)\n",
    "print(\"Test set shape:\", test_df.shape)"
   ]
  },
  {
   "cell_type": "code",
   "execution_count": 7,
   "id": "rolled-supervision",
   "metadata": {},
   "outputs": [],
   "source": [
    "#dataset_train = IndexedDataset(train_df)\n",
    "dataset_valid = IndexedDataset(valid_df, TestOrValid=True, Valid=True)\n",
    "dataset_test = IndexedDataset(test_df, TestOrValid=True)\n",
    "\n",
    "batch_size = config['batch_size']\n",
    "#train_loader = DataLoader(dataset_train ,batch_size=batch_size, shuffle=True, drop_last=True)\n",
    "valid_loader = DataLoader(dataset_valid, batch_size=batch_size, shuffle=True, drop_last=True)\n",
    "test_loader = DataLoader(dataset_test, batch_size=batch_size,shuffle=False, drop_last=True)"
   ]
  },
  {
   "cell_type": "code",
   "execution_count": 8,
   "id": "tropical-double",
   "metadata": {},
   "outputs": [
    {
     "name": "stdout",
     "output_type": "stream",
     "text": [
      "tensor([1490,    5,  277,  262, 2116, 1127, 1821,  200,  530, 1101, 1538,  657,\n",
      "         957,  921,  827, 1281])\n"
     ]
    }
   ],
   "source": [
    "for data, labels, idx in valid_loader:\n",
    "    print(idx)\n",
    "    break;"
   ]
  },
  {
   "cell_type": "markdown",
   "id": "gorgeous-foundation",
   "metadata": {},
   "source": [
    "# Models"
   ]
  },
  {
   "cell_type": "markdown",
   "id": "cooked-wyoming",
   "metadata": {},
   "source": [
    "## Teacher Model Structure"
   ]
  },
  {
   "cell_type": "code",
   "execution_count": 9,
   "id": "descending-sending",
   "metadata": {},
   "outputs": [
    {
     "name": "stdout",
     "output_type": "stream",
     "text": [
      "ComplexModel(\n",
      "  (linear1): Linear(in_features=16, out_features=216, bias=True)\n",
      "  (act1): LeakyReLU(negative_slope=0.01)\n",
      "  (linear2): Linear(in_features=216, out_features=128, bias=True)\n",
      "  (act2): ReLU()\n",
      "  (linear3): Linear(in_features=128, out_features=42, bias=True)\n",
      "  (act3): ReLU()\n",
      "  (linear4): Linear(in_features=42, out_features=7, bias=True)\n",
      "  (dropout): Dropout(p=0.1, inplace=False)\n",
      "  (bn1): BatchNorm1d(216, eps=1e-05, momentum=0.1, affine=True, track_running_stats=True)\n",
      "  (bn2): BatchNorm1d(84, eps=1e-05, momentum=0.1, affine=True, track_running_stats=True)\n",
      ")\n"
     ]
    }
   ],
   "source": [
    "class ComplexModel(nn.Module):\n",
    "    def __init__(self):\n",
    "        super(ComplexModel, self).__init__()\n",
    "\n",
    "        self.linear1 = nn.Linear(16, 216)\n",
    "        self.act1 = nn.LeakyReLU()\n",
    "        self.linear2 = nn.Linear(216, 128)\n",
    "        self.act2 = nn.ReLU()\n",
    "        self.linear3 = nn.Linear(128, 42)\n",
    "        self.act3 = nn.ReLU()\n",
    "        self.linear4 = nn.Linear(42, 7)\n",
    "\n",
    "        self.dropout = nn.Dropout(0.1)\n",
    "        self.bn1 = nn.BatchNorm1d(216)\n",
    "        self.bn2 = nn.BatchNorm1d(84)\n",
    "\n",
    "    def forward(self, x):\n",
    "        x = self.act1(self.linear1(x))\n",
    "        #x = self.bn1(x)\n",
    "        x = self.dropout(x)\n",
    "        x = self.act2(self.linear2(x))\n",
    "        #x = self.bn2(x)\n",
    "        x = self.dropout(x)\n",
    "        x = self.act3(self.linear3(x))\n",
    "        x = self.linear4(x)\n",
    "        return x\n",
    "teacher_model = ComplexModel().to(device)\n",
    "print(teacher_model)"
   ]
  },
  {
   "cell_type": "markdown",
   "id": "brief-formula",
   "metadata": {},
   "source": [
    "## Student Model Structure"
   ]
  },
  {
   "cell_type": "code",
   "execution_count": 10,
   "id": "statutory-diabetes",
   "metadata": {},
   "outputs": [],
   "source": [
    "class SimpleModel(nn.Module):\n",
    "    def __init__(self):\n",
    "        super(SimpleModel, self).__init__()\n",
    "        self.linear1 = torch.nn.Linear(16, 42)\n",
    "        self.linear2 = torch.nn.Linear(42, 7)\n",
    "        self.relu = nn.ReLU()\n",
    "\n",
    "    def forward(self, x):\n",
    "        x = self.linear1(x)\n",
    "        x = self.relu(x)\n",
    "        x = self.linear2(x)\n",
    "        return x\n",
    "student_model_ori = SimpleModel().to(device) #一個baseline model\n",
    "student_model_kd = SimpleModel().to(device)  #一個全新的用於kd的student model"
   ]
  },
  {
   "cell_type": "markdown",
   "id": "peaceful-stage",
   "metadata": {},
   "source": [
    "## 資料取樣方式\n",
    "- random_query: 隨機從未標注資料挑出n筆資料\n",
    "- least_confidence: logit在softmax後取出，找出對於最大的那類預測最低的idx\n",
    "- margin: 預測第一大的跟預測第二大的相減最小"
   ]
  },
  {
   "cell_type": "code",
   "execution_count": 11,
   "id": "recovered-terrace",
   "metadata": {},
   "outputs": [],
   "source": [
    "'''\n",
    "Each query strategy below returns a list of len=query_size with indices of\n",
    "samples that are to be queried.\n",
    "- query_size (int): number of samples to be queried for labels (default=20)\n",
    "\n",
    "'''\n",
    "def init_query(query_size=20):\n",
    "    seed = 44 #隨意選都可\n",
    "    return list(range(seed, seed + query_size))\n",
    "    #return list(range(query_size)) #直接給train_df的前面20筆，因為在random_split時已經reset_index過了\n",
    "def random_query(data_loader, query_size=20):\n",
    "    sample_idx = []\n",
    "    # Because the data has already been shuffled inside the data loader,\n",
    "    # we can simply return the `query_size` first samples from it\n",
    "    for batch in data_loader:\n",
    "        _, _, idx = batch\n",
    "        sample_idx.extend(idx.tolist())\n",
    "        if len(sample_idx) >= query_size:\n",
    "            break\n",
    "    return sample_idx[0:query_size]\n",
    "\n",
    "def least_confidence_query(model, device, data_loader, query_size=20):\n",
    "    confidences = []\n",
    "    indices = []\n",
    "    model.eval()\n",
    "    with torch.no_grad():\n",
    "        for batch in data_loader:\n",
    "            data, _, idx = batch\n",
    "            logits = model(data.to(device))\n",
    "            probabilities = F.softmax(logits, dim=1)\n",
    "\n",
    "            # Keep only the top class confidence for each sample\n",
    "            most_probable = torch.max(probabilities, dim=1)[0] #取得最大概率的類別的值\n",
    "            confidences.extend(most_probable.cpu().tolist())\n",
    "            indices.extend(idx.tolist())\n",
    "\n",
    "    conf = np.asarray(confidences)\n",
    "    ind = np.asarray(indices)\n",
    "    sorted_pool = np.argsort(conf)\n",
    "    # Return the indices corresponding to the lowest `query_size` confidences\n",
    "    return ind[sorted_pool][0:query_size]\n",
    "\n",
    "def margin_query(model, device, data_loader, query_size=20):\n",
    "    margins = []\n",
    "    indices = []\n",
    "    model.eval()\n",
    "    with torch.no_grad():\n",
    "        for batch in data_loader:\n",
    "            data, _, idx = batch\n",
    "            logits = model(data.to(device))\n",
    "            probabilities = F.softmax(logits, dim=1)\n",
    "\n",
    "            # Select the top two class confidences for each sample\n",
    "            toptwo = torch.topk(probabilities, 2, dim=1)[0]\n",
    "            # Compute the margins = differences between the two top confidences\n",
    "            differences = toptwo[:,0]-toptwo[:,1]\n",
    "            margins.extend(torch.abs(differences).cpu().tolist())\n",
    "            indices.extend(idx.tolist())\n",
    "\n",
    "    margin = np.asarray(margins)\n",
    "    index = np.asarray(indices)\n",
    "    sorted_pool = np.argsort(margin)\n",
    "    # Return the indices corresponding to the lowest `query_size` margins\n",
    "    return index[sorted_pool][0:query_size]"
   ]
  },
  {
   "cell_type": "markdown",
   "id": "generic-porter",
   "metadata": {},
   "source": [
    "## 流程：\n",
    "Training data中先隨機給一定數量已標注的作為起始 訓練model_0, 再n筆一次一次的給他加入新的labeled data, <br>\n",
    "valid dataset用來選擇教師，期待他跟training set有著類似的資料分布<br>\n",
    "用選擇出的teacher model來和ground truth 一起訓練一個這輪的新model_i"
   ]
  },
  {
   "cell_type": "markdown",
   "id": "advisory-worry",
   "metadata": {},
   "source": [
    "## 使用者標注\n",
    "選擇被標注時要不要用pooling來阻擋outliers?<br>"
   ]
  },
  {
   "cell_type": "code",
   "execution_count": 12,
   "id": "fossil-wireless",
   "metadata": {},
   "outputs": [],
   "source": [
    "def query_the_oracle(model, device, dataset, query_size=20, query_strategy='random',\n",
    "                      pool_size=0, batch_size=32, num_workers=0):\n",
    "\n",
    "    unlabeled_idx = np.nonzero(dataset.unlabeled_mask)[0]\n",
    "    # Select a pool of samples to query from\n",
    "    if pool_size > 0:\n",
    "        pool_idx = random.sample(range(1, len(unlabeled_idx)), pool_size)\n",
    "        pool_loader = DataLoader(dataset, batch_size=batch_size, num_workers=num_workers,\n",
    "                                              sampler=SubsetRandomSampler(unlabeled_idx[pool_idx]))\n",
    "    else:\n",
    "        pool_loader = DataLoader(dataset, batch_size=batch_size, num_workers=num_workers,\n",
    "                                              sampler=SubsetRandomSampler(unlabeled_idx))\n",
    "    if query_strategy == 'init':\n",
    "        sample_idx = init_query(query_size)\n",
    "    elif query_strategy == 'margin':\n",
    "        sample_idx = margin_query(model, device, pool_loader, query_size)\n",
    "    elif query_strategy == 'least_confidence':\n",
    "        sample_idx = least_confidence_query(model, device, pool_loader, query_size)\n",
    "    else:\n",
    "        sample_idx = random_query(pool_loader, query_size)\n",
    "    # 更新哪些unlabeled 被標注\n",
    "    for sample in sample_idx:\n",
    "        dataset.update_label_from_idx(sample)"
   ]
  },
  {
   "cell_type": "markdown",
   "id": "sunset-chinese",
   "metadata": {},
   "source": [
    "# 單次訓練過程，KD loss Function"
   ]
  },
  {
   "cell_type": "code",
   "execution_count": 13,
   "id": "unavailable-lodge",
   "metadata": {},
   "outputs": [],
   "source": [
    "# 自定義T, alpha KD_loss_function\n",
    "def loss_kd(student_logits, labels, teacher_logits, temparature=5, alpha=0.7):\n",
    "    soft_loss = nn.KLDivLoss(reduction=\"batchmean\") #KLdistance算student軟標籤和teacher軟標籤\n",
    "    distillation_loss = soft_loss(\n",
    "                  F.log_softmax(student_logits/temparature, dim=1),\n",
    "                  F.softmax(teacher_logits/temparature,dim=1)\n",
    "                  )* (temparature * temparature)\n",
    "    student_loss = F.cross_entropy(student_logits, labels)\n",
    "    #print(f'student_loss: {student_loss}, distill_loss: {distillation_loss}')\n",
    "    total_loss = (1-alpha)*student_loss + alpha*distillation_loss\n",
    "    return total_loss\n",
    "\n",
    "def train(model, device, train_loader, teacher_model, kd=False):  #直接對傳入的model訓練\n",
    "    model.train()\n",
    "    criterion = nn.CrossEntropyLoss()\n",
    "    optimizer = optim.AdamW(model.parameters(),lr=3e-3,weight_decay=1e-4)\n",
    "    #optimizer = optim.SGD(model.parameters(), lr=0.01, momentum=0.9, dampening=0, weight_decay=0.0001)\n",
    "    epoch_loss = 0\n",
    "    train_correct = 0\n",
    "    m_train = 0 #這次有幾筆labeled資料用來訓練\n",
    "    for batch in train_loader:\n",
    "        datas, labels, _ = batch\n",
    "        m_train += datas.size(0)\n",
    "        datas, labels = datas.to(device), labels.to(device)\n",
    "\n",
    "        optimizer.zero_grad()\n",
    "        outputs = model(datas)\n",
    "        _, train_pred = torch.max(outputs, 1) #不關心最大的數值，只要index\n",
    "        train_correct += (train_pred.detach() == labels.detach()).sum().item()\n",
    "        if kd:\n",
    "            teacher_outputs = teacher_model(datas) # 教師output\n",
    "            teacher_outputs = teacher_outputs.detach()  # 切斷教師反向傳播\n",
    "            loss = loss_kd(outputs, labels, teacher_outputs)\n",
    "        else:\n",
    "            loss = criterion(outputs, labels)\n",
    "        loss.backward()\n",
    "        optimizer.step()\n",
    "        epoch_loss += loss.item()\n",
    "    return epoch_loss / m_train, m_train, train_correct / m_train\n",
    "\n",
    "def test(model, device, data_loader): #可能是test也可能是valid，只看準確度\n",
    "    test_correct = 0\n",
    "    model.eval()\n",
    "    with torch.no_grad():\n",
    "        for batch in data_loader:\n",
    "            datas, labels, _ = batch\n",
    "            datas, labels = datas.to(device), labels.to(device)\n",
    "            outputs = model(datas)\n",
    "            _, test_pred = torch.max(outputs, 1) # get the index of the class with the highest probability\n",
    "            test_correct += (test_pred.cpu() == labels.cpu()).sum().item()\n",
    "    return test_correct/(len(dataset_test))"
   ]
  },
  {
   "cell_type": "markdown",
   "id": "precious-harassment",
   "metadata": {},
   "source": [
    "## 更新valid set的有無被正確預測矩陣\n",
    "每次訓練出一個模型代表該iteration，要\n",
    "- 得到test acc (用test func達成)\n",
    "- 跑過每一個valid set的data, 紀錄他在這輪有沒有被正確預測\n",
    "<br>理論上valid set的每一個instance, 會有一個list記載他每回合有沒有被預測對"
   ]
  },
  {
   "cell_type": "code",
   "execution_count": 14,
   "id": "collaborative-johns",
   "metadata": {},
   "outputs": [],
   "source": [
    "def modify_valid_record(model, device, data_loader, dataset_valid):\n",
    "    model.eval()\n",
    "    #print('prediction_record: ',dataset_valid.prediction_record)\n",
    "    with torch.no_grad():\n",
    "        for batch in data_loader:\n",
    "            datas, labels, idx = batch\n",
    "            datas, labels = datas.to(device), labels.to(device)\n",
    "            outputs = model(datas)\n",
    "            _, test_pred = torch.max(outputs, 1) # test_pred就是類別預測值\n",
    "\n",
    "            for i in range(len(idx)):\n",
    "                if test_pred[i] == labels[i]:\n",
    "                  #print(f\"Sample {idx[i]} prediction is correct\")\n",
    "                  dataset_valid.update_prediction_record(idx[i], 1) #idx, prediction\n",
    "                else:\n",
    "                  #print(f\"Sample {idx[i]} prediction is incorrect\")\n",
    "                  dataset_valid.update_prediction_record(idx[i], 0) #idx, prediction"
   ]
  },
  {
   "cell_type": "markdown",
   "id": "identified-particular",
   "metadata": {},
   "source": [
    "## 教師的選擇"
   ]
  },
  {
   "cell_type": "code",
   "execution_count": 15,
   "id": "western-apparel",
   "metadata": {},
   "outputs": [],
   "source": [
    "def choose_teacher(current_model, dataset_valid, valid_loader, previous_model_num): #previous_model_num=2代表有model_0, model_1 可供選擇\n",
    "    if previous_model_num == 1 or previous_model_num == 2: return 0 #前面兩輪的選擇必定直接為第0個model\n",
    "\n",
    "    '''\n",
    "    如果當前iteration傳入的model(current_model)預測這筆資料正確label的softmax, 低於\n",
    "    過往model的softmax probability -> 採用這筆C\n",
    "    原始論文說要過softmax,但會使得概率差距過大,所以我直接用歸一化\n",
    "    current_model為上一輪訓練出的model, 我們要知道他預測錯哪些data\n",
    "    '''\n",
    "    #用當前current_model 算出每個data的C\n",
    "    sum_list = [sum(sub_list) for sub_list in dataset_valid.prediction_record] #每個data的原始C總和,之後只有這個model預測錯的會被留著\n",
    "    predict_proba_list = np.zeros(dataset_valid.n_samples) #初始化一個list儲存current_model對每個data的softmax預測值\n",
    "    current_model.eval()\n",
    "    for batch in valid_loader:\n",
    "        datas, labels, idx = batch\n",
    "        datas, labels = datas.to(device), labels.to(device)\n",
    "        outputs = current_model(datas)\n",
    "        outputs = F.softmax(outputs, dim=1) #過softmax\n",
    "        best_proba, test_pred = torch.max(outputs, 1) # best_proba為對該類別的預測機率，test_pred就是類別預測\n",
    "        for i in range(len(idx)):\n",
    "            predict_proba_list[idx[i]] = best_proba[i].detach().cpu().numpy() #probability加入list，方便之後比較\n",
    "            if test_pred[i] == labels[i]: #這筆資料預測對了\n",
    "                sum_list[idx[i]] = 0 #就不用考慮這筆的C\n",
    "\n",
    "    # 平滑化操作，用上面得到需要採用的C's 並平滑化作為底下選擇的基準\n",
    "    total_sum = sum(sum_list)\n",
    "    consistency_list = [x / total_sum for x in sum_list] #用來選這次teacher的C list\n",
    "\n",
    "    ''' consistency_list長的會像 [0.1, 0, 0, 0, 0.5, 0.05, 0, 0, 0.25, 0.1, 0] 理論上0會很多\n",
    "        如果previous model預測在softmax後，在某一筆上面表現比current_model在那筆資料好，\n",
    "        且該筆資料的consistency_list 不為0, 代表是好事，把它 (probability*C) 加進current score 裏'''\n",
    "    best_model = 0\n",
    "    best_score = 0\n",
    "    for t in range(previous_model_num - 1): #跑過所有過往的model除了上一輪的\n",
    "        current_score = 0\n",
    "        PATH = f'./models/model_{t}.pt'\n",
    "        previous_model = ComplexModel().to(device)\n",
    "        previous_model.load_state_dict(torch.load(PATH))\n",
    "        previous_model.eval()\n",
    "        for batch in valid_loader: #valid set的資料用來選teacher\n",
    "            datas, labels, idx = batch\n",
    "            datas, labels = datas.to(device), labels.to(device)\n",
    "            outputs = previous_model(datas)\n",
    "            outputs = F.softmax(outputs, dim=1)\n",
    "            best_proba, _ = torch.max(outputs, 1) # best_proba為對該類別的預測機率\n",
    "            for i in range(len(idx)):\n",
    "                if best_proba[i] > predict_proba_list[idx[i]]: #若是這個過往模型對於這筆資料的預測值大於current_model，score += 這個模型Output的機率＊這筆資料的Ｃ\n",
    "                    current_score += best_proba[i].detach().cpu().numpy() * consistency_list[idx[i]] #這樣下來，若是預測C=0的就會變成+0 沒有用\n",
    "        #在每一輪過往的model，看他的score有沒有比當前最好的更高，若是有，更新他為best_model, 更新best_score\n",
    "        if current_score >= best_score:\n",
    "            best_model = t\n",
    "            best_score = current_score\n",
    "\n",
    "        #print(f'current_score: {current_score}')\n",
    "        #print(f'best_model: {best_model}')\n",
    "\n",
    "    return best_model"
   ]
  },
  {
   "cell_type": "markdown",
   "id": "leading-ireland",
   "metadata": {},
   "source": [
    "## 保存地址：\n",
    "如何保存model? https://pytorch.org/tutorials/beginner/saving_loading_models.html<br>\n",
    "分兩種，可以繼續訓練的或只能拿來eval的，這裡不需要繼續訓練於是選只能eval的<br>\n",
    "torch.save(model.state_dict(), PATH)<br>\n",
    "model = TheModelClass(*args, **kwargs)<br>\n",
    "model.load_state_dict(torch.load(PATH))<br>\n",
    "model.eval()<br>\n",
    "通常檔案結尾為pt 如save('model_i.pt')\n",
    "\n"
   ]
  },
  {
   "cell_type": "code",
   "execution_count": 16,
   "id": "champion-material",
   "metadata": {},
   "outputs": [],
   "source": [
    "if not os.path.isdir('./models'):\n",
    "    os.mkdir('./models') # Create directory of saving models."
   ]
  },
  {
   "cell_type": "markdown",
   "id": "imported-passenger",
   "metadata": {},
   "source": [
    "# 真正開始訓練\n",
    "對於三種取樣方法各自先初始化該dataset_train與給予一部分作為初始值後開始<br>\n",
    "只要改過程中的query_strategy就可，不用改初始化用到的<br>\n",
    "分別把過程中存下的test_acc存在各自的list<br>\n",
    "(random_test_acc, confidence_test_acc, margin_test_acc)"
   ]
  },
  {
   "cell_type": "markdown",
   "id": "comfortable-europe",
   "metadata": {},
   "source": [
    "## 比較三種策略在此\n",
    "model 從0起始\n",
    "迴圈從1到T"
   ]
  },
  {
   "cell_type": "code",
   "execution_count": 17,
   "id": "disturbed-million",
   "metadata": {},
   "outputs": [],
   "source": [
    "def use_labeled_to_train(model, device, dataset_train, valid_loader, teacher_model, kd=False):\n",
    "    # Train the model on the data that has been labeled so far:\n",
    "    labeled_idx = np.where(dataset_train.unlabeled_mask == 0)[0]\n",
    "    # 只包含有標記過training data 的dataloader\n",
    "    labeled_train_loader = DataLoader(dataset_train, batch_size=batch_size, num_workers=0, sampler=SubsetRandomSampler(labeled_idx)) # set num_workers=0 to avoid parallel works\n",
    "\n",
    "    previous_best_acc = 0\n",
    "    fail_cnt = 0\n",
    "    while fail_cnt < 2 : #反覆對這些資料訓練直到valid準確率不再上升n輪\n",
    "        train_loss, train_data_num, train_acc = train(model, device, labeled_train_loader, teacher_model=teacher_model, kd=kd) #固定都會傳teacher,但kd=True才會用到\n",
    "        current_valid_acc = test(model, device, valid_loader)\n",
    "        if current_valid_acc > previous_best_acc:\n",
    "            fail_cnt = 0 #重新計算，因為成功找到更好的model\n",
    "            previous_best_acc = current_valid_acc\n",
    "        else:\n",
    "            fail_cnt += 1\n",
    "        #print(f'train_acc: {train_acc}')\n",
    "    print(f\"train acc: {train_acc}, train loss:{train_loss}, valid loss:{previous_best_acc}, how many train data:{train_data_num}\")"
   ]
  },
  {
   "cell_type": "code",
   "execution_count": 18,
   "id": "golden-earthquake",
   "metadata": {},
   "outputs": [],
   "source": [
    "query_size_define = config['query_size'] #20\n",
    "pool_size_define = config['pool_size'] #0?2000?\n",
    "def compare_strategy_get_acc(strategy='random'):\n",
    "    # 初始化一開始的訓練集,測試集，隨機放一些資料進去，random時query_the_oracle的model放誰不重要\n",
    "    test_acc_list = []\n",
    "    teacher_list = [0]\n",
    "    dataset_train = IndexedDataset(train_df)\n",
    "    dataset_valid = IndexedDataset(valid_df, TestOrValid=True, Valid=True)\n",
    "    valid_loader = DataLoader(dataset_valid, batch_size=batch_size, shuffle=True, drop_last=True)\n",
    "\n",
    "\n",
    "    # 第0個model, 初始的model用20個統一初始資料來訓練，理論上三種取樣方式的起始test_acc會差不多\n",
    "    model = ComplexModel().to(device) #先訓練一個seed model 用初始隨機資料\n",
    "    query_the_oracle(model, device, dataset_train, query_size=query_size_define, query_strategy='init', pool_size=pool_size_define) #取得的參數統一為init\n",
    "    use_labeled_to_train(model, device, dataset_train, valid_loader, teacher_model=model, kd=False) #訓練, teacher隨便放\n",
    "\n",
    "    # Test the model on test set\n",
    "    test_acc = test(model, device, test_loader)\n",
    "    print(f\"Iteration: 0, test acc: {test_acc}\\n\")\n",
    "    test_acc_list.append(test_acc)\n",
    "    PATH = f'./models/model_0.pt'\n",
    "    torch.save(model.state_dict(), PATH) #儲存model\n",
    "\n",
    "    \"\"\"這邊改iteration數\"\"\"\n",
    "    num_iteration = config['query_iteration'] #50\n",
    "    for iteration in range(1, num_iteration):\n",
    "        # 每個iteration的開始加入一些labeled data 到training，用上個迴圈還沒被重置的model\n",
    "        query_the_oracle(model, device, dataset_train, query_size=query_size_define, query_strategy=strategy, pool_size=pool_size_define) #用上一輪的model去拿到新的資料\n",
    "        modify_valid_record(model, device, valid_loader, dataset_valid) #用上一輪的model去更新valid上的預測至目前\n",
    "\n",
    "        '''看看當今model會錯在哪裡用來更新C(correct consistency),也代表著這個被傳入的model不會是teacher(除了前面兩輪)\n",
    "            同時找到過往的teacher -> '''\n",
    "        number_teacher = choose_teacher(model, dataset_valid, valid_loader, previous_model_num = iteration) #iteration從1~50 拿到teacher是哪個過往model\n",
    "        teacher_list.append(number_teacher)\n",
    "        model = ComplexModel().to(device) #重新訓練一個model在每個iteration, 跟一個代表過往模型的teacher_model\n",
    "        print(f'This iteration {iteration}, the teacher is {number_teacher}')\n",
    "        teacher_model = ComplexModel().to(device)\n",
    "        teacher_model.load_state_dict(torch.load(f'./models/model_{number_teacher}.pt'))\n",
    "        teacher_model.eval()\n",
    "        '''此處採用Knowledge Distillation來訓練'''\n",
    "        use_labeled_to_train(model, device, dataset_train, valid_loader, teacher_model=teacher_model, kd=True) #kd=true 給teacher\n",
    "\n",
    "\n",
    "        # Test the model on test set, save the model for this iteration\n",
    "        test_acc = test(model, device, test_loader)\n",
    "        print(f\"Iteration: {iteration}, test acc: {test_acc}\\n\\n\")\n",
    "        test_acc_list.append(test_acc)\n",
    "        PATH = f'./models/model_{iteration}.pt'\n",
    "        torch.save(model.state_dict(), PATH) #儲存model\n",
    "\n",
    "    pred_record = dataset_valid.prediction_record\n",
    "    selected_lists = random.sample(pred_record, 50) #隨機選50個出來show\n",
    "    plot_pred_record(selected_lists) #畫出預測紀錄\n",
    "    return test_acc_list, teacher_list, dataset_train #回傳每個iteration在此策略上的測試準確度, 各個iteration的教師, 最後使用了哪些train_Data"
   ]
  },
  {
   "cell_type": "markdown",
   "id": "irish-search",
   "metadata": {},
   "source": [
    "### Confidence採樣測試\n",
    "估計容易受到outliers影響，可能要加上pooling"
   ]
  },
  {
   "cell_type": "code",
   "execution_count": 19,
   "id": "fantastic-strength",
   "metadata": {
    "scrolled": true
   },
   "outputs": [
    {
     "name": "stdout",
     "output_type": "stream",
     "text": [
      "train acc: 0.6, train loss:0.1143062174320221, valid loss:0.3878075651854572, how many train data:20\n",
      "Iteration: 0, test acc: 0.4495042232831436\n",
      "\n",
      "This iteration 1, the teacher is 0\n",
      "train acc: 0.925, train loss:0.02555226758122444, valid loss:0.5460888725670217, how many train data:40\n",
      "Iteration: 1, test acc: 0.6731546088872568\n",
      "\n",
      "\n",
      "This iteration 2, the teacher is 0\n",
      "train acc: 0.9, train loss:0.024555659294128417, valid loss:0.633492471538744, how many train data:60\n",
      "Iteration: 2, test acc: 0.803892765332354\n",
      "\n",
      "\n",
      "This iteration 3, the teacher is 0\n",
      "train acc: 0.9375, train loss:0.022454892098903657, valid loss:0.6423062798384135, how many train data:80\n",
      "Iteration: 3, test acc: 0.7590892398090342\n",
      "\n",
      "\n",
      "This iteration 4, the teacher is 0\n",
      "train acc: 0.86, train loss:0.027204218804836273, valid loss:0.6301872934263679, how many train data:100\n",
      "Iteration: 4, test acc: 0.8053617333822989\n",
      "\n",
      "\n",
      "This iteration 5, the teacher is 0\n",
      "train acc: 0.7666666666666667, train loss:0.027736412733793257, valid loss:0.6408373117884686, how many train data:120\n",
      "Iteration: 5, test acc: 0.7961806830701432\n",
      "\n",
      "\n",
      "This iteration 6, the teacher is 0\n",
      "train acc: 0.8214285714285714, train loss:0.025665788565363203, valid loss:0.6856408373117885, how many train data:140\n",
      "Iteration: 6, test acc: 0.8508997429305912\n",
      "\n",
      "\n",
      "This iteration 7, the teacher is 0\n",
      "train acc: 0.75625, train loss:0.025755268521606922, valid loss:0.6691149467499082, how many train data:160\n",
      "Iteration: 7, test acc: 0.8417186926184356\n",
      "\n",
      "\n",
      "This iteration 8, the teacher is 4\n",
      "train acc: 0.8888888888888888, train loss:0.017599448727236854, valid loss:0.6926184355490268, how many train data:180\n",
      "Iteration: 8, test acc: 0.8538376790304811\n",
      "\n",
      "\n",
      "This iteration 9, the teacher is 0\n",
      "train acc: 0.82, train loss:0.02584525167942047, valid loss:0.6827029012118987, how many train data:200\n",
      "Iteration: 9, test acc: 0.8428204186558942\n",
      "\n",
      "\n",
      "This iteration 10, the teacher is 8\n",
      "train acc: 0.8545454545454545, train loss:0.015223819017410278, valid loss:0.6948218876239441, how many train data:220\n",
      "Iteration: 10, test acc: 0.8677928755049578\n",
      "\n",
      "\n",
      "This iteration 11, the teacher is 6\n",
      "train acc: 0.75, train loss:0.021184104681015014, valid loss:0.6878442893867058, how many train data:240\n",
      "Iteration: 11, test acc: 0.8747704737421961\n",
      "\n",
      "\n",
      "This iteration 12, the teacher is 10\n",
      "train acc: 0.7769230769230769, train loss:0.017959758639335632, valid loss:0.6860080793242747, how many train data:260\n",
      "Iteration: 12, test acc: 0.87146529562982\n",
      "\n",
      "\n",
      "This iteration 13, the teacher is 10\n",
      "train acc: 0.8357142857142857, train loss:0.01544153413602284, valid loss:0.6951891296364304, how many train data:280\n",
      "Iteration: 13, test acc: 0.8707308116048476\n",
      "\n",
      "\n",
      "This iteration 14, the teacher is 10\n",
      "train acc: 0.82, train loss:0.013987827648719153, valid loss:0.7029012118986412, how many train data:300\n",
      "Iteration: 14, test acc: 0.8688946015424165\n",
      "\n",
      "\n",
      "This iteration 15, the teacher is 13\n",
      "train acc: 0.809375, train loss:0.014282796485349535, valid loss:0.6988615497612927, how many train data:320\n",
      "Iteration: 15, test acc: 0.8751377157546824\n",
      "\n",
      "\n",
      "This iteration 16, the teacher is 14\n",
      "train acc: 0.7441176470588236, train loss:0.01829361871761434, valid loss:0.6937201615864855, how many train data:340\n",
      "Iteration: 16, test acc: 0.8799118619170033\n",
      "\n",
      "\n",
      "This iteration 17, the teacher is 14\n",
      "train acc: 0.7555555555555555, train loss:0.017449928530388407, valid loss:0.6907822254865956, how many train data:360\n",
      "Iteration: 17, test acc: 0.8758721997796548\n",
      "\n",
      "\n",
      "This iteration 18, the teacher is 14\n",
      "train acc: 0.75, train loss:0.016264804021308296, valid loss:0.699228791773779, how many train data:380\n",
      "Iteration: 18, test acc: 0.8799118619170033\n",
      "\n",
      "\n",
      "This iteration 19, the teacher is 13\n",
      "train acc: 0.71, train loss:0.019217353463172913, valid loss:0.6749908189496878, how many train data:400\n",
      "Iteration: 19, test acc: 0.8604480352552332\n",
      "\n",
      "\n"
     ]
    },
    {
     "data": {
      "image/png": "[encoded data removed]",
      "text/plain": [
       "<Figure size 640x480 with 1 Axes>"
      ]
     },
     "metadata": {},
     "output_type": "display_data"
    },
    {
     "name": "stdout",
     "output_type": "stream",
     "text": [
      "[0.4495042232831436, 0.6731546088872568, 0.803892765332354, 0.7590892398090342, 0.8053617333822989, 0.7961806830701432, 0.8508997429305912, 0.8417186926184356, 0.8538376790304811, 0.8428204186558942, 0.8677928755049578, 0.8747704737421961, 0.87146529562982, 0.8707308116048476, 0.8688946015424165, 0.8751377157546824, 0.8799118619170033, 0.8758721997796548, 0.8799118619170033, 0.8604480352552332]\n",
      "[0, 0, 0, 0, 0, 0, 0, 0, 4, 0, 8, 6, 10, 10, 10, 13, 14, 14, 14, 13]\n"
     ]
    }
   ],
   "source": [
    "confidence_test_acc, confidence_teacher_list, confidence_train_data_selected = compare_strategy_get_acc('least_confidence')\n",
    "print(confidence_test_acc)\n",
    "print(confidence_teacher_list)"
   ]
  },
  {
   "cell_type": "markdown",
   "id": "confident-startup",
   "metadata": {},
   "source": [
    "### Margin 採樣測試"
   ]
  },
  {
   "cell_type": "code",
   "execution_count": 20,
   "id": "aging-madrid",
   "metadata": {
    "scrolled": true
   },
   "outputs": [
    {
     "name": "stdout",
     "output_type": "stream",
     "text": [
      "train acc: 0.6, train loss:0.15507858991622925, valid loss:0.442159383033419, how many train data:20\n",
      "Iteration: 0, test acc: 0.5479250826294528\n",
      "\n",
      "This iteration 1, the teacher is 0\n",
      "train acc: 0.875, train loss:0.025925909727811815, valid loss:0.6492838780756518, how many train data:40\n",
      "Iteration: 1, test acc: 0.7998531031950055\n",
      "\n",
      "\n",
      "This iteration 2, the teacher is 0\n",
      "train acc: 0.8333333333333334, train loss:0.02597780923048655, valid loss:0.6731546088872568, how many train data:60\n",
      "Iteration: 2, test acc: 0.8292324641939037\n",
      "\n",
      "\n",
      "This iteration 3, the teacher is 1\n",
      "train acc: 0.825, train loss:0.01793965958058834, valid loss:0.6764597869996327, how many train data:80\n",
      "Iteration: 3, test acc: 0.8277634961439588\n",
      "\n",
      "\n",
      "This iteration 4, the teacher is 1\n",
      "train acc: 0.79, train loss:0.021979166269302366, valid loss:0.6841718692618436, how many train data:100\n",
      "Iteration: 4, test acc: 0.8538376790304811\n",
      "\n",
      "\n",
      "This iteration 5, the teacher is 3\n",
      "train acc: 0.5666666666666667, train loss:0.027838973701000212, valid loss:0.5372750642673522, how many train data:120\n",
      "Iteration: 5, test acc: 0.6588321704002938\n",
      "\n",
      "\n",
      "This iteration 6, the teacher is 4\n",
      "train acc: 0.7571428571428571, train loss:0.018397943143333706, valid loss:0.6860080793242747, how many train data:140\n",
      "Iteration: 6, test acc: 0.8586118251928021\n",
      "\n",
      "\n",
      "This iteration 7, the teacher is 3\n",
      "train acc: 0.7875, train loss:0.019495392218232155, valid loss:0.6900477414616232, how many train data:160\n",
      "Iteration: 7, test acc: 0.8710980536173338\n",
      "\n",
      "\n",
      "This iteration 8, the teacher is 6\n",
      "train acc: 0.8055555555555556, train loss:0.017088674008846283, valid loss:0.7216305545354389, how many train data:180\n",
      "Iteration: 8, test acc: 0.882482556004407\n",
      "\n",
      "\n",
      "This iteration 9, the teacher is 7\n",
      "train acc: 0.68, train loss:0.021104224696755408, valid loss:0.6871098053617334, how many train data:200\n",
      "Iteration: 9, test acc: 0.8699963275798751\n",
      "\n",
      "\n",
      "This iteration 10, the teacher is 8\n",
      "train acc: 0.7863636363636364, train loss:0.015789018910039556, valid loss:0.7260374586852736, how many train data:220\n",
      "Iteration: 10, test acc: 0.9015791406536908\n",
      "\n",
      "\n",
      "This iteration 11, the teacher is 9\n",
      "train acc: 0.7833333333333333, train loss:0.015787469036877156, valid loss:0.7304443628351084, how many train data:240\n",
      "Iteration: 11, test acc: 0.9159015791406537\n",
      "\n",
      "\n",
      "This iteration 12, the teacher is 10\n",
      "train acc: 0.7576923076923077, train loss:0.0176919301541952, valid loss:0.7341167829599706, how many train data:260\n",
      "Iteration: 12, test acc: 0.9118619170033052\n",
      "\n",
      "\n",
      "This iteration 13, the teacher is 9\n",
      "train acc: 0.7321428571428571, train loss:0.017177562096289227, valid loss:0.7289753947851634, how many train data:280\n",
      "Iteration: 13, test acc: 0.884318766066838\n",
      "\n",
      "\n",
      "This iteration 14, the teacher is 9\n",
      "train acc: 0.7166666666666667, train loss:0.017215577314297358, valid loss:0.7227322805728975, how many train data:300\n",
      "Iteration: 14, test acc: 0.9063532868160118\n",
      "\n",
      "\n",
      "This iteration 15, the teacher is 10\n",
      "train acc: 0.7, train loss:0.018482364248484373, valid loss:0.7289753947851634, how many train data:320\n",
      "Iteration: 15, test acc: 0.9122291590157914\n",
      "\n",
      "\n",
      "This iteration 16, the teacher is 14\n",
      "train acc: 0.711764705882353, train loss:0.01855250886257957, valid loss:0.7337495409474843, how many train data:340\n",
      "Iteration: 16, test acc: 0.8802791039294895\n",
      "\n",
      "\n",
      "This iteration 17, the teacher is 10\n",
      "train acc: 0.7472222222222222, train loss:0.017589670916398365, valid loss:0.7385236871098053, how many train data:360\n",
      "Iteration: 17, test acc: 0.9166360631656262\n",
      "\n",
      "\n",
      "This iteration 18, the teacher is 16\n",
      "train acc: 0.7210526315789474, train loss:0.017614521282283885, valid loss:0.731546088872567, how many train data:380\n",
      "Iteration: 18, test acc: 0.9136981270657363\n",
      "\n",
      "\n",
      "This iteration 19, the teacher is 16\n",
      "train acc: 0.7125, train loss:0.01730740875005722, valid loss:0.7260374586852736, how many train data:400\n",
      "Iteration: 19, test acc: 0.9133308850532501\n",
      "\n",
      "\n"
     ]
    },
    {
     "data": {
      "image/png": "[encoded data removed]",
      "text/plain": [
       "<Figure size 640x480 with 1 Axes>"
      ]
     },
     "metadata": {},
     "output_type": "display_data"
    },
    {
     "name": "stdout",
     "output_type": "stream",
     "text": [
      "[0.5479250826294528, 0.7998531031950055, 0.8292324641939037, 0.8277634961439588, 0.8538376790304811, 0.6588321704002938, 0.8586118251928021, 0.8710980536173338, 0.882482556004407, 0.8699963275798751, 0.9015791406536908, 0.9159015791406537, 0.9118619170033052, 0.884318766066838, 0.9063532868160118, 0.9122291590157914, 0.8802791039294895, 0.9166360631656262, 0.9136981270657363, 0.9133308850532501]\n",
      "[0, 0, 0, 1, 1, 3, 4, 3, 6, 7, 8, 9, 10, 9, 9, 10, 14, 10, 16, 16]\n"
     ]
    }
   ],
   "source": [
    "margin_test_acc, margin_teacher_list, margin_train_data_selected = compare_strategy_get_acc('margin')\n",
    "print(margin_test_acc)\n",
    "print(margin_teacher_list)"
   ]
  },
  {
   "cell_type": "markdown",
   "id": "legitimate-trade",
   "metadata": {},
   "source": [
    "### Random 版本"
   ]
  },
  {
   "cell_type": "code",
   "execution_count": 21,
   "id": "requested-shade",
   "metadata": {
    "scrolled": true
   },
   "outputs": [
    {
     "name": "stdout",
     "output_type": "stream",
     "text": [
      "train acc: 0.55, train loss:0.12439780235290528, valid loss:0.40910760190965845, how many train data:20\n",
      "Iteration: 0, test acc: 0.4674990818949688\n",
      "\n",
      "This iteration 1, the teacher is 0\n",
      "train acc: 0.8, train loss:0.023634278774261476, valid loss:0.5828130738156445, how many train data:40\n",
      "Iteration: 1, test acc: 0.7238340066103562\n",
      "\n",
      "\n",
      "This iteration 2, the teacher is 0\n",
      "train acc: 0.85, train loss:0.019184862822294237, valid loss:0.5589423430040397, how many train data:60\n",
      "Iteration: 2, test acc: 0.6786632390745502\n",
      "\n",
      "\n",
      "This iteration 3, the teacher is 0\n",
      "train acc: 0.975, train loss:0.01687573455274105, valid loss:0.6654425266250459, how many train data:80\n",
      "Iteration: 3, test acc: 0.8402497245684907\n",
      "\n",
      "\n",
      "This iteration 4, the teacher is 1\n",
      "train acc: 0.96, train loss:0.01572330191731453, valid loss:0.6705839147998531, how many train data:100\n",
      "Iteration: 4, test acc: 0.8486962908556739\n",
      "\n",
      "\n",
      "This iteration 5, the teacher is 1\n",
      "train acc: 0.9333333333333333, train loss:0.015858746444185574, valid loss:0.6871098053617334, how many train data:120\n",
      "Iteration: 5, test acc: 0.8486962908556739\n",
      "\n",
      "\n",
      "This iteration 6, the teacher is 4\n",
      "train acc: 0.9571428571428572, train loss:0.010224965959787368, valid loss:0.7095115681233933, how many train data:140\n",
      "Iteration: 6, test acc: 0.8931325743665075\n",
      "\n",
      "\n",
      "This iteration 7, the teacher is 1\n",
      "train acc: 0.93125, train loss:0.014849738497287036, valid loss:0.6926184355490268, how many train data:160\n",
      "Iteration: 7, test acc: 0.8674256334924716\n",
      "\n",
      "\n",
      "This iteration 8, the teacher is 1\n",
      "train acc: 0.9111111111111111, train loss:0.01642495873901579, valid loss:0.6937201615864855, how many train data:180\n",
      "Iteration: 8, test acc: 0.8641204553800955\n",
      "\n",
      "\n",
      "This iteration 9, the teacher is 4\n",
      "train acc: 0.925, train loss:0.012342234328389167, valid loss:0.6907822254865956, how many train data:200\n",
      "Iteration: 9, test acc: 0.8527359529930224\n",
      "\n",
      "\n",
      "This iteration 10, the teacher is 2\n",
      "train acc: 0.8909090909090909, train loss:0.017134989459406245, valid loss:0.6782959970620639, how many train data:220\n",
      "Iteration: 10, test acc: 0.842453176643408\n",
      "\n",
      "\n",
      "This iteration 11, the teacher is 6\n",
      "train acc: 0.95, train loss:0.008938131605585415, valid loss:0.7201615864854939, how many train data:240\n",
      "Iteration: 11, test acc: 0.8920308483290489\n",
      "\n",
      "\n",
      "This iteration 12, the teacher is 6\n",
      "train acc: 0.9230769230769231, train loss:0.009305456108771837, valid loss:0.7227322805728975, how many train data:260\n",
      "Iteration: 12, test acc: 0.9085567388909291\n",
      "\n",
      "\n",
      "This iteration 13, the teacher is 11\n",
      "train acc: 0.9571428571428572, train loss:0.008393460192850657, valid loss:0.731546088872567, how many train data:280\n",
      "Iteration: 13, test acc: 0.9023136246786633\n",
      "\n",
      "\n",
      "This iteration 14, the teacher is 6\n",
      "train acc: 0.9333333333333333, train loss:0.010090355624755224, valid loss:0.7289753947851634, how many train data:300\n",
      "Iteration: 14, test acc: 0.8993756885787734\n",
      "\n",
      "\n",
      "This iteration 15, the teacher is 12\n",
      "train acc: 0.940625, train loss:0.008513191482052207, valid loss:0.7264047006977599, how many train data:320\n",
      "Iteration: 15, test acc: 0.9001101726037458\n",
      "\n",
      "\n",
      "This iteration 16, the teacher is 9\n",
      "train acc: 0.9088235294117647, train loss:0.011102374555433498, valid loss:0.7032684539111275, how many train data:340\n",
      "Iteration: 16, test acc: 0.8780756518545721\n",
      "\n",
      "\n",
      "This iteration 17, the teacher is 10\n",
      "train acc: 0.8944444444444445, train loss:0.013051535561680793, valid loss:0.699228791773779, how many train data:360\n",
      "Iteration: 17, test acc: 0.8828497980168931\n",
      "\n",
      "\n",
      "This iteration 18, the teacher is 10\n",
      "train acc: 0.8947368421052632, train loss:0.013093368591446625, valid loss:0.7124495042232831, how many train data:380\n",
      "Iteration: 18, test acc: 0.8699963275798751\n",
      "\n",
      "\n",
      "This iteration 19, the teacher is 10\n",
      "train acc: 0.8975, train loss:0.012199696693569422, valid loss:0.6911494674990819, how many train data:400\n",
      "Iteration: 19, test acc: 0.8703635695923614\n",
      "\n",
      "\n"
     ]
    },
    {
     "data": {
      "image/png": "[encoded data removed]",
      "text/plain": [
       "<Figure size 640x480 with 1 Axes>"
      ]
     },
     "metadata": {},
     "output_type": "display_data"
    },
    {
     "name": "stdout",
     "output_type": "stream",
     "text": [
      "[0.4674990818949688, 0.7238340066103562, 0.6786632390745502, 0.8402497245684907, 0.8486962908556739, 0.8486962908556739, 0.8931325743665075, 0.8674256334924716, 0.8641204553800955, 0.8527359529930224, 0.842453176643408, 0.8920308483290489, 0.9085567388909291, 0.9023136246786633, 0.8993756885787734, 0.9001101726037458, 0.8780756518545721, 0.8828497980168931, 0.8699963275798751, 0.8703635695923614]\n",
      "[0, 0, 0, 0, 1, 1, 4, 1, 1, 4, 2, 6, 6, 11, 6, 12, 9, 10, 10, 10]\n"
     ]
    }
   ],
   "source": [
    "random_test_acc, random_teacher_list, random_train_data_selected = compare_strategy_get_acc('random')\n",
    "print(random_test_acc)\n",
    "print(random_teacher_list)"
   ]
  },
  {
   "cell_type": "markdown",
   "id": "twenty-disorder",
   "metadata": {},
   "source": [
    "# 參數 發現&紀錄\n",
    "- 每次在訓練時，都是從頭訓練一個模型，一開始我怕在每個iteration時對這筆資料訓練太少次。所以我設定要連續讓valid set準確率不上升8輪(fail_count)，才是完整的訓練了這次資料。但後來在抓錯時才發現這樣會直接一個大overfit,因為剛開始訓練資料不多 而且測試集上效果反而沒有後來好（後來設定不再上升1~2輪都不錯)，並且達成不再上升八次這個門檻很困難，反而會浪費很多運算資源&訓練時間，而且設定輪次少後可以多幾輪訓練，放更多訓練資料進去看曲線\n",
    "\n",
    "- softmax設定問題還是正常的平均在label <b>Consistency</b> List\n",
    "- 找不到作者的程式碼(論文說有appendix顯示出一些他們試過的超參數跟其他的東西), 試過很多Temperature&alpha 在過往模型訓練知識蒸餾的超參數，但不好畫出比較圖太慢\n",
    "- 方法如random, 或是有時候fail_count調太高,或是知識蒸餾的參數調整，會讓模型過度偏袒一開始的模型0, 導致都取它作為teacher model, 有考慮要不要在每個iteration把先前的Consistency list都呈上一些衰減率"
   ]
  },
  {
   "cell_type": "markdown",
   "id": "linear-approach",
   "metadata": {},
   "source": [
    "## 繪圖比較三者的差異"
   ]
  },
  {
   "cell_type": "code",
   "execution_count": 22,
   "id": "split-chest",
   "metadata": {
    "scrolled": true
   },
   "outputs": [
    {
     "name": "stderr",
     "output_type": "stream",
     "text": [
      "/Users/huangrongzun/Desktop/colab-to-local/venv/lib/python3.11/site-packages/seaborn/_oldcore.py:1498: FutureWarning: is_categorical_dtype is deprecated and will be removed in a future version. Use isinstance(dtype, CategoricalDtype) instead\n",
      "  if pd.api.types.is_categorical_dtype(vector):\n",
      "/Users/huangrongzun/Desktop/colab-to-local/venv/lib/python3.11/site-packages/seaborn/_oldcore.py:1498: FutureWarning: is_categorical_dtype is deprecated and will be removed in a future version. Use isinstance(dtype, CategoricalDtype) instead\n",
      "  if pd.api.types.is_categorical_dtype(vector):\n",
      "/Users/huangrongzun/Desktop/colab-to-local/venv/lib/python3.11/site-packages/seaborn/_oldcore.py:1498: FutureWarning: is_categorical_dtype is deprecated and will be removed in a future version. Use isinstance(dtype, CategoricalDtype) instead\n",
      "  if pd.api.types.is_categorical_dtype(vector):\n",
      "/Users/huangrongzun/Desktop/colab-to-local/venv/lib/python3.11/site-packages/seaborn/_oldcore.py:1498: FutureWarning: is_categorical_dtype is deprecated and will be removed in a future version. Use isinstance(dtype, CategoricalDtype) instead\n",
      "  if pd.api.types.is_categorical_dtype(vector):\n",
      "/Users/huangrongzun/Desktop/colab-to-local/venv/lib/python3.11/site-packages/seaborn/_oldcore.py:1498: FutureWarning: is_categorical_dtype is deprecated and will be removed in a future version. Use isinstance(dtype, CategoricalDtype) instead\n",
      "  if pd.api.types.is_categorical_dtype(vector):\n",
      "/Users/huangrongzun/Desktop/colab-to-local/venv/lib/python3.11/site-packages/seaborn/_oldcore.py:1498: FutureWarning: is_categorical_dtype is deprecated and will be removed in a future version. Use isinstance(dtype, CategoricalDtype) instead\n",
      "  if pd.api.types.is_categorical_dtype(vector):\n",
      "/Users/huangrongzun/Desktop/colab-to-local/venv/lib/python3.11/site-packages/seaborn/_oldcore.py:1498: FutureWarning: is_categorical_dtype is deprecated and will be removed in a future version. Use isinstance(dtype, CategoricalDtype) instead\n",
      "  if pd.api.types.is_categorical_dtype(vector):\n",
      "/Users/huangrongzun/Desktop/colab-to-local/venv/lib/python3.11/site-packages/seaborn/_oldcore.py:1498: FutureWarning: is_categorical_dtype is deprecated and will be removed in a future version. Use isinstance(dtype, CategoricalDtype) instead\n",
      "  if pd.api.types.is_categorical_dtype(vector):\n",
      "/Users/huangrongzun/Desktop/colab-to-local/venv/lib/python3.11/site-packages/seaborn/_oldcore.py:1498: FutureWarning: is_categorical_dtype is deprecated and will be removed in a future version. Use isinstance(dtype, CategoricalDtype) instead\n",
      "  if pd.api.types.is_categorical_dtype(vector):\n",
      "/Users/huangrongzun/Desktop/colab-to-local/venv/lib/python3.11/site-packages/seaborn/_oldcore.py:1498: FutureWarning: is_categorical_dtype is deprecated and will be removed in a future version. Use isinstance(dtype, CategoricalDtype) instead\n",
      "  if pd.api.types.is_categorical_dtype(vector):\n",
      "/Users/huangrongzun/Desktop/colab-to-local/venv/lib/python3.11/site-packages/seaborn/_oldcore.py:1498: FutureWarning: is_categorical_dtype is deprecated and will be removed in a future version. Use isinstance(dtype, CategoricalDtype) instead\n",
      "  if pd.api.types.is_categorical_dtype(vector):\n",
      "/Users/huangrongzun/Desktop/colab-to-local/venv/lib/python3.11/site-packages/seaborn/_oldcore.py:1498: FutureWarning: is_categorical_dtype is deprecated and will be removed in a future version. Use isinstance(dtype, CategoricalDtype) instead\n",
      "  if pd.api.types.is_categorical_dtype(vector):\n",
      "/Users/huangrongzun/Desktop/colab-to-local/venv/lib/python3.11/site-packages/seaborn/_oldcore.py:1498: FutureWarning: is_categorical_dtype is deprecated and will be removed in a future version. Use isinstance(dtype, CategoricalDtype) instead\n",
      "  if pd.api.types.is_categorical_dtype(vector):\n",
      "/Users/huangrongzun/Desktop/colab-to-local/venv/lib/python3.11/site-packages/seaborn/_oldcore.py:1119: FutureWarning: use_inf_as_na option is deprecated and will be removed in a future version. Convert inf values to NaN before operating instead.\n",
      "  with pd.option_context('mode.use_inf_as_na', True):\n",
      "/Users/huangrongzun/Desktop/colab-to-local/venv/lib/python3.11/site-packages/seaborn/_oldcore.py:1119: FutureWarning: use_inf_as_na option is deprecated and will be removed in a future version. Convert inf values to NaN before operating instead.\n",
      "  with pd.option_context('mode.use_inf_as_na', True):\n"
     ]
    },
    {
     "data": {
      "image/png": "[encoded data removed]",
      "text/plain": [
       "<Figure size 1200x600 with 1 Axes>"
      ]
     },
     "metadata": {},
     "output_type": "display_data"
    }
   ],
   "source": [
    "import seaborn as sns\n",
    "data = pd.DataFrame({'x': range(config['query_size'], config['query_size']*(config['query_iteration']+1), config['query_size']),\n",
    "                     'Random': random_test_acc, 'Confidence': confidence_test_acc, 'Margin': margin_test_acc})\n",
    "sns.set(style=\"darkgrid\")\n",
    "plt.figure(figsize=(12, 6))\n",
    "sns.lineplot(data=data.set_index('x'), palette=\"Set2\", linewidth=2.5)\n",
    "plt.legend(labels=[\"Random\", \"Margin\", \"Confidence\"])\n",
    "plt.xlabel(\"# of training samples\")\n",
    "plt.ylabel(\"test accuracy\")\n",
    "plt.title(\"Comparison of Three Sampling method\")\n",
    "plt.show()"
   ]
  },
  {
   "cell_type": "markdown",
   "id": "variable-initial",
   "metadata": {},
   "source": [
    "## 呈現每一輪Teacher是如何被選擇"
   ]
  },
  {
   "cell_type": "code",
   "execution_count": 23,
   "id": "informative-empire",
   "metadata": {},
   "outputs": [
    {
     "data": {
      "image/png": "[encoded data removed]",
      "text/plain": [
       "<Figure size 640x480 with 1 Axes>"
      ]
     },
     "metadata": {},
     "output_type": "display_data"
    }
   ],
   "source": [
    "#改畫三條線\n",
    "y_coordinates = range(config['query_iteration'], 0, -1)\n",
    "plt.plot(random_teacher_list, y_coordinates, label='Random')\n",
    "plt.plot(confidence_teacher_list, y_coordinates, label='Confidence')\n",
    "plt.plot(margin_teacher_list, y_coordinates, label='Margin')\n",
    "plt.xlim(-1, config['query_iteration'])\n",
    "plt.ylim(0, config['query_iteration'])\n",
    "plt.xlabel('Chosen teacher')\n",
    "plt.ylabel('Iteration')\n",
    "plt.yticks(range(config['query_iteration'], 0, -5), range(1, config['query_iteration']+1, 5))\n",
    "plt.legend()\n",
    "plt.show()"
   ]
  },
  {
   "cell_type": "markdown",
   "id": "collective-horizontal",
   "metadata": {},
   "source": [
    "## 畫出方格圖（採用三者之平均）"
   ]
  },
  {
   "cell_type": "code",
   "execution_count": 24,
   "id": "modular-presence",
   "metadata": {},
   "outputs": [],
   "source": [
    "list_all = [random_teacher_list, confidence_teacher_list, margin_teacher_list]\n",
    "n = len(list_all[0])\n",
    "matrix = np.zeros((n, n))  # 创建一个n x n的全零矩阵\n",
    "for lst in list_all:\n",
    "    for i in range(n):\n",
    "        matrix[i][lst[i]] += 1\n",
    "arr = np.array(matrix)\n",
    "sums = np.sum(arr, axis=1)\n",
    "normalized_arr = arr / sums[:, np.newaxis]"
   ]
  },
  {
   "cell_type": "code",
   "execution_count": 25,
   "id": "opening-motorcycle",
   "metadata": {},
   "outputs": [
    {
     "data": {
      "image/png": "[encoded data removed]",
      "text/plain": [
       "<Figure size 800x600 with 2 Axes>"
      ]
     },
     "metadata": {},
     "output_type": "display_data"
    }
   ],
   "source": [
    "mask = np.triu(np.ones_like(normalized_arr))\n",
    "#cmap = sns.cm.rocket_r\n",
    "fig, ax = plt.subplots(figsize=(8, 6))\n",
    "sns.heatmap(normalized_arr, mask=mask, cmap='Greens', annot=False, fmt=\".2f\", square=False, cbar=True) #Greens_r 像原版\n",
    "ax.set_xlabel('Teacher Chosen')\n",
    "ax.set_ylabel('Iteration num.')\n",
    "ax.set_title('Correlation Map')\n",
    "plt.show()"
   ]
  },
  {
   "cell_type": "markdown",
   "id": "monetary-sunglasses",
   "metadata": {},
   "source": [
    "# 使用三種採樣方式中表現最好的train data，重新訓練一個完整的Teacher Model\n",
    "### 目前看是Margin效果最好，使用了1/8的總Training data\n",
    "於是接下來完整的訓練採用margin挑出來的那些Training data"
   ]
  },
  {
   "cell_type": "code",
   "execution_count": 26,
   "id": "going-footwear",
   "metadata": {},
   "outputs": [],
   "source": [
    "# labeled train dataset = margin_train_data_selected\n",
    "\n",
    "labeled_idx = np.where(margin_train_data_selected.unlabeled_mask == 0)[0]\n",
    "# 只包含有標記過training data 的dataloader\n",
    "labeled_train_loader = DataLoader(margin_train_data_selected, batch_size=batch_size, num_workers=0, sampler=SubsetRandomSampler(labeled_idx))"
   ]
  },
  {
   "cell_type": "code",
   "execution_count": 27,
   "id": "confirmed-brass",
   "metadata": {},
   "outputs": [
    {
     "data": {
      "text/plain": [
       "400"
      ]
     },
     "execution_count": 27,
     "metadata": {},
     "output_type": "execute_result"
    }
   ],
   "source": [
    "len(labeled_idx)"
   ]
  },
  {
   "cell_type": "markdown",
   "id": "welcome-vinyl",
   "metadata": {},
   "source": [
    "## 直接套用之前的KD完整訓練流程"
   ]
  },
  {
   "cell_type": "code",
   "execution_count": 28,
   "id": "light-disposal",
   "metadata": {},
   "outputs": [],
   "source": [
    "#train完整teacher\n",
    "def final_train_teacher(train_loader, valid_loader, model, model_name, epochs_num):\n",
    "\n",
    "    criterion = nn.CrossEntropyLoss(label_smoothing = 0.1)\n",
    "    optimizer = optim.AdamW(model.parameters(),lr=1e-3,weight_decay=1e-4)\n",
    "    loss_train = []\n",
    "    loss_valid = []\n",
    "    best_loss, early_stop_count = math.inf, 0\n",
    "\n",
    "    for epoch in range(epochs_num):\n",
    "        #print(f'loss_train:{loss_train}')\n",
    "        model.train() # Set model to train mode\n",
    "        cur_train_loss = []\n",
    "        cur_valid_loss = []\n",
    "        train_pbar = tqdm(train_loader, position=0, leave=True)\n",
    "        for datas, labels, _ in train_pbar: #each batch\n",
    "            datas, labels = datas.to(device), labels.to(device)\n",
    "            optimizer.zero_grad()\n",
    "            outputs = model(datas)\n",
    "            loss = criterion(outputs, labels)\n",
    "            loss.backward() #反向傳播\n",
    "            optimizer.step()\n",
    "            cur_train_loss.append(loss.detach().cpu().numpy())\n",
    "        #print(cur_train_loss)\n",
    "        mean_loss_train = sum(cur_train_loss)/len(cur_train_loss)\n",
    "        #-----------------------validation----------------------#\n",
    "        model.eval()\n",
    "        with torch.no_grad(): #代表這裡面不會有backpropagation梯度，不會有調整優化\n",
    "            for datas, labels, _ in valid_loader:\n",
    "                datas, labels = datas.to(device), labels.to(device)\n",
    "                outputs = model(datas)\n",
    "                loss = criterion(outputs, labels)\n",
    "                cur_valid_loss.append(loss.detach().cpu().numpy())\n",
    "\n",
    "            mean_loss_valid = sum(cur_valid_loss)/len(cur_valid_loss)\n",
    "            print(f\"Epoch [{epoch+1}/{epochs_num}]: Train loss: {mean_loss_train:.4f}, Valid loss: {mean_loss_valid:.4f}\")\n",
    "            loss_train.append(mean_loss_train)\n",
    "            loss_valid.append(mean_loss_valid)\n",
    "            if mean_loss_valid < best_loss:\n",
    "                best_loss = mean_loss_valid\n",
    "                torch.save(model.state_dict(), config['save_path_large'])\n",
    "                print(f'Saving model with loss {best_loss:.4f}')\n",
    "                early_stop_count = 0\n",
    "            else:\n",
    "                early_stop_count += 1\n",
    "            \n",
    "#             # 先不管準確度，直接存，只為了跑完整份檔案\n",
    "#             torch.save(model.state_dict(), config['save_path_large'])\n",
    "#             print(f'Saving model with loss {best_loss:.4f}')\n",
    "            \n",
    "            \n",
    "            if early_stop_count >= config['early_stop']:\n",
    "                print('\\n Model is not improving, Stop training session.')\n",
    "                return\n",
    "\n",
    "    show_loss(loss_train, loss_valid)"
   ]
  },
  {
   "cell_type": "markdown",
   "id": "metallic-telescope",
   "metadata": {},
   "source": [
    "## KD"
   ]
  },
  {
   "cell_type": "code",
   "execution_count": 29,
   "id": "satisfactory-showcase",
   "metadata": {},
   "outputs": [],
   "source": [
    "# 自定義T, alpha 此處調整alpha較高因為是要教學生 直接從這邊改參數\n",
    "def final_loss_kd(student_logits, labels, teacher_logits, temparature=3, alpha=0.95):\n",
    "    soft_loss = nn.KLDivLoss(reduction=\"batchmean\") #KLdistance算student軟標籤和teacher軟標籤\n",
    "    distillation_loss = soft_loss(\n",
    "                  F.log_softmax(student_logits/temparature, dim=1),\n",
    "                  F.softmax(teacher_logits/temparature,dim=1)\n",
    "                  )* (temparature * temparature)\n",
    "    student_loss = F.cross_entropy(student_logits, labels)\n",
    "    total_loss = (1-alpha)*student_loss + alpha*distillation_loss\n",
    "    return total_loss\n",
    "#train完整student\n",
    "def final_train_student(train_loader, valid_loader, student_model, teacher_model, model_name, epochs_num):\n",
    "\n",
    "    teacher_model.eval()\n",
    "    criterion = nn.CrossEntropyLoss(label_smoothing = 0.1)\n",
    "    optimizer = optim.AdamW(student_model.parameters(),lr=1e-3,weight_decay=1e-4)\n",
    "    loss_train = []\n",
    "    loss_valid = []\n",
    "    best_loss, early_stop_count = math.inf, 0\n",
    "\n",
    "    for epoch in range(epochs_num):\n",
    "        student_model.train() # Set model to train mode\n",
    "        cur_train_loss = []\n",
    "        cur_valid_loss = []\n",
    "        train_pbar = tqdm(train_loader, position=0, leave=True)\n",
    "        for datas, labels, _ in train_pbar: #each batch\n",
    "            datas, labels = datas.to(device), labels.to(device)\n",
    "            optimizer.zero_grad()\n",
    "            student_outputs = student_model(datas)\n",
    "            teacher_outputs = teacher_model(datas) # 教師output\n",
    "            teacher_outputs = teacher_outputs.detach()  # 切斷教師反向傳播\n",
    "\n",
    "            loss = final_loss_kd(student_outputs, labels, teacher_outputs)\n",
    "            loss.backward() #反向傳播\n",
    "            optimizer.step()\n",
    "            cur_train_loss.append(loss.detach().cpu().numpy())\n",
    "\n",
    "        mean_loss_train = sum(cur_train_loss)/len(cur_train_loss)\n",
    "        #-----------------------validation----------------------#\n",
    "        student_model.eval()\n",
    "        with torch.no_grad(): #代表這裡面不會有backpropagation梯度，不會有調整優化\n",
    "            for datas, labels, _ in valid_loader:\n",
    "                datas, labels = datas.to(device), labels.to(device)\n",
    "                student_outputs = student_model(datas)\n",
    "                teacher_outputs = teacher_model(datas) # 教師output\n",
    "                teacher_outputs = teacher_outputs.detach()  # 切斷教師反向傳播\n",
    "                loss = final_loss_kd(student_outputs, labels, teacher_outputs)\n",
    "                cur_valid_loss.append(loss.detach().cpu().numpy())\n",
    "\n",
    "            mean_loss_valid = sum(cur_valid_loss)/len(cur_valid_loss)\n",
    "            print(f\"Epoch [{epoch+1}/{epochs_num}]: Train loss: {mean_loss_train:.4f}, Valid loss: {mean_loss_valid:.4f}\")\n",
    "            loss_train.append(mean_loss_train)\n",
    "            loss_valid.append(mean_loss_valid)\n",
    "            if mean_loss_valid < best_loss:\n",
    "                best_loss = mean_loss_valid\n",
    "                torch.save(student_model.state_dict(), config['save_path_small'])\n",
    "                print(f'Saving model with loss {best_loss:.4f}')\n",
    "                early_stop_count = 0\n",
    "            else:\n",
    "                early_stop_count += 1\n",
    "            \n",
    "            \n",
    "#             # 先不管準確度，直接存，只為了跑完整份檔案\n",
    "#             torch.save(model.state_dict(), config['save_path_large'])\n",
    "#             print(f'Saving model with loss {best_loss:.4f}')\n",
    "            \n",
    "            \n",
    "            if early_stop_count >= config['early_stop']:\n",
    "                print('\\n Model is not improving, Stop training session.')\n",
    "                return\n",
    "\n",
    "    show_loss(loss_train, loss_valid)"
   ]
  },
  {
   "cell_type": "markdown",
   "id": "strange-roots",
   "metadata": {},
   "source": [
    "## Train"
   ]
  },
  {
   "cell_type": "code",
   "execution_count": 30,
   "id": "hawaiian-difficulty",
   "metadata": {},
   "outputs": [],
   "source": [
    "dataset_valid = IndexedDataset(valid_df, TestOrValid=True, Valid=True)\n",
    "valid_loader = DataLoader(dataset_valid, batch_size=batch_size, shuffle=True, drop_last=True)"
   ]
  },
  {
   "cell_type": "code",
   "execution_count": 32,
   "id": "waiting-heart",
   "metadata": {
    "scrolled": true
   },
   "outputs": [
    {
     "data": {
      "application/vnd.jupyter.widget-view+json": {
       "model_id": "07c8db8417ce452b8bbf96af01ac4800",
       "version_major": 2,
       "version_minor": 0
      },
      "text/plain": [
       "  0%|          | 0/25 [00:00<?, ?it/s]"
      ]
     },
     "metadata": {},
     "output_type": "display_data"
    },
    {
     "name": "stdout",
     "output_type": "stream",
     "text": [
      "Epoch [1/100]: Train loss: 1.8078, Valid loss: 1.5937\n",
      "Saving model with loss 1.5937\n"
     ]
    },
    {
     "data": {
      "application/vnd.jupyter.widget-view+json": {
       "model_id": "a332528428d649edac9e93d9aaf5dd84",
       "version_major": 2,
       "version_minor": 0
      },
      "text/plain": [
       "  0%|          | 0/25 [00:00<?, ?it/s]"
      ]
     },
     "metadata": {},
     "output_type": "display_data"
    },
    {
     "name": "stdout",
     "output_type": "stream",
     "text": [
      "Epoch [2/100]: Train loss: 1.3872, Valid loss: 1.0486\n",
      "Saving model with loss 1.0486\n"
     ]
    },
    {
     "data": {
      "application/vnd.jupyter.widget-view+json": {
       "model_id": "0d1a55510de94da7a265e8cfc9c45e7d",
       "version_major": 2,
       "version_minor": 0
      },
      "text/plain": [
       "  0%|          | 0/25 [00:00<?, ?it/s]"
      ]
     },
     "metadata": {},
     "output_type": "display_data"
    },
    {
     "name": "stdout",
     "output_type": "stream",
     "text": [
      "Epoch [3/100]: Train loss: 1.1827, Valid loss: 0.8977\n",
      "Saving model with loss 0.8977\n"
     ]
    },
    {
     "data": {
      "application/vnd.jupyter.widget-view+json": {
       "model_id": "30778f365ceb4c6790a03e45e8373eb7",
       "version_major": 2,
       "version_minor": 0
      },
      "text/plain": [
       "  0%|          | 0/25 [00:00<?, ?it/s]"
      ]
     },
     "metadata": {},
     "output_type": "display_data"
    },
    {
     "name": "stdout",
     "output_type": "stream",
     "text": [
      "Epoch [4/100]: Train loss: 1.1013, Valid loss: 0.8378\n",
      "Saving model with loss 0.8378\n"
     ]
    },
    {
     "data": {
      "application/vnd.jupyter.widget-view+json": {
       "model_id": "56abe451e8e448129c5c82a8743e361e",
       "version_major": 2,
       "version_minor": 0
      },
      "text/plain": [
       "  0%|          | 0/25 [00:00<?, ?it/s]"
      ]
     },
     "metadata": {},
     "output_type": "display_data"
    },
    {
     "name": "stdout",
     "output_type": "stream",
     "text": [
      "Epoch [5/100]: Train loss: 1.0762, Valid loss: 0.7908\n",
      "Saving model with loss 0.7908\n"
     ]
    },
    {
     "data": {
      "application/vnd.jupyter.widget-view+json": {
       "model_id": "30fe59a72986489194369f3925fae00f",
       "version_major": 2,
       "version_minor": 0
      },
      "text/plain": [
       "  0%|          | 0/25 [00:00<?, ?it/s]"
      ]
     },
     "metadata": {},
     "output_type": "display_data"
    },
    {
     "name": "stdout",
     "output_type": "stream",
     "text": [
      "Epoch [6/100]: Train loss: 1.0321, Valid loss: 0.7460\n",
      "Saving model with loss 0.7460\n"
     ]
    },
    {
     "data": {
      "application/vnd.jupyter.widget-view+json": {
       "model_id": "c0f6833cf79d4bdeb9f0a004c78defd7",
       "version_major": 2,
       "version_minor": 0
      },
      "text/plain": [
       "  0%|          | 0/25 [00:00<?, ?it/s]"
      ]
     },
     "metadata": {},
     "output_type": "display_data"
    },
    {
     "name": "stdout",
     "output_type": "stream",
     "text": [
      "Epoch [7/100]: Train loss: 0.9966, Valid loss: 0.7336\n",
      "Saving model with loss 0.7336\n"
     ]
    },
    {
     "data": {
      "application/vnd.jupyter.widget-view+json": {
       "model_id": "413e3082ded24579b2fea85806f6ef80",
       "version_major": 2,
       "version_minor": 0
      },
      "text/plain": [
       "  0%|          | 0/25 [00:00<?, ?it/s]"
      ]
     },
     "metadata": {},
     "output_type": "display_data"
    },
    {
     "name": "stdout",
     "output_type": "stream",
     "text": [
      "Epoch [8/100]: Train loss: 0.9475, Valid loss: 0.7346\n"
     ]
    },
    {
     "data": {
      "application/vnd.jupyter.widget-view+json": {
       "model_id": "b48c92d8af6b4e9d91595cfee2532f87",
       "version_major": 2,
       "version_minor": 0
      },
      "text/plain": [
       "  0%|          | 0/25 [00:00<?, ?it/s]"
      ]
     },
     "metadata": {},
     "output_type": "display_data"
    },
    {
     "name": "stdout",
     "output_type": "stream",
     "text": [
      "Epoch [9/100]: Train loss: 0.9376, Valid loss: 0.6858\n",
      "Saving model with loss 0.6858\n"
     ]
    },
    {
     "data": {
      "application/vnd.jupyter.widget-view+json": {
       "model_id": "ca7317a467054059b385f0cd97c2123d",
       "version_major": 2,
       "version_minor": 0
      },
      "text/plain": [
       "  0%|          | 0/25 [00:00<?, ?it/s]"
      ]
     },
     "metadata": {},
     "output_type": "display_data"
    },
    {
     "name": "stdout",
     "output_type": "stream",
     "text": [
      "Epoch [10/100]: Train loss: 0.9404, Valid loss: 0.6798\n",
      "Saving model with loss 0.6798\n"
     ]
    },
    {
     "data": {
      "application/vnd.jupyter.widget-view+json": {
       "model_id": "670f1163194944a08c4da065521b2d60",
       "version_major": 2,
       "version_minor": 0
      },
      "text/plain": [
       "  0%|          | 0/25 [00:00<?, ?it/s]"
      ]
     },
     "metadata": {},
     "output_type": "display_data"
    },
    {
     "name": "stdout",
     "output_type": "stream",
     "text": [
      "Epoch [11/100]: Train loss: 0.9193, Valid loss: 0.6714\n",
      "Saving model with loss 0.6714\n"
     ]
    },
    {
     "data": {
      "application/vnd.jupyter.widget-view+json": {
       "model_id": "f43cac16911e434aa158ca0cac0d4a29",
       "version_major": 2,
       "version_minor": 0
      },
      "text/plain": [
       "  0%|          | 0/25 [00:00<?, ?it/s]"
      ]
     },
     "metadata": {},
     "output_type": "display_data"
    },
    {
     "name": "stdout",
     "output_type": "stream",
     "text": [
      "Epoch [12/100]: Train loss: 0.8977, Valid loss: 0.6802\n"
     ]
    },
    {
     "data": {
      "application/vnd.jupyter.widget-view+json": {
       "model_id": "ad98cae488984b81bcf6336f51ad517b",
       "version_major": 2,
       "version_minor": 0
      },
      "text/plain": [
       "  0%|          | 0/25 [00:00<?, ?it/s]"
      ]
     },
     "metadata": {},
     "output_type": "display_data"
    },
    {
     "name": "stdout",
     "output_type": "stream",
     "text": [
      "Epoch [13/100]: Train loss: 0.8943, Valid loss: 0.6831\n"
     ]
    },
    {
     "data": {
      "application/vnd.jupyter.widget-view+json": {
       "model_id": "76ef93c6508f4bf0b3bdc6c97fadd02a",
       "version_major": 2,
       "version_minor": 0
      },
      "text/plain": [
       "  0%|          | 0/25 [00:00<?, ?it/s]"
      ]
     },
     "metadata": {},
     "output_type": "display_data"
    },
    {
     "name": "stdout",
     "output_type": "stream",
     "text": [
      "Epoch [14/100]: Train loss: 0.9152, Valid loss: 0.6758\n"
     ]
    },
    {
     "data": {
      "application/vnd.jupyter.widget-view+json": {
       "model_id": "caefbbdd87f24dc590387e1589f0f349",
       "version_major": 2,
       "version_minor": 0
      },
      "text/plain": [
       "  0%|          | 0/25 [00:00<?, ?it/s]"
      ]
     },
     "metadata": {},
     "output_type": "display_data"
    },
    {
     "name": "stdout",
     "output_type": "stream",
     "text": [
      "Epoch [15/100]: Train loss: 0.9025, Valid loss: 0.6455\n",
      "Saving model with loss 0.6455\n"
     ]
    },
    {
     "data": {
      "application/vnd.jupyter.widget-view+json": {
       "model_id": "cb36c8d03cff4bd6b9609b79b1d43bb2",
       "version_major": 2,
       "version_minor": 0
      },
      "text/plain": [
       "  0%|          | 0/25 [00:00<?, ?it/s]"
      ]
     },
     "metadata": {},
     "output_type": "display_data"
    },
    {
     "name": "stdout",
     "output_type": "stream",
     "text": [
      "Epoch [16/100]: Train loss: 0.8676, Valid loss: 0.6431\n",
      "Saving model with loss 0.6431\n"
     ]
    },
    {
     "data": {
      "application/vnd.jupyter.widget-view+json": {
       "model_id": "64d3b17d32b849509774998dc78266b4",
       "version_major": 2,
       "version_minor": 0
      },
      "text/plain": [
       "  0%|          | 0/25 [00:00<?, ?it/s]"
      ]
     },
     "metadata": {},
     "output_type": "display_data"
    },
    {
     "name": "stdout",
     "output_type": "stream",
     "text": [
      "Epoch [17/100]: Train loss: 0.8465, Valid loss: 0.6408\n",
      "Saving model with loss 0.6408\n"
     ]
    },
    {
     "data": {
      "application/vnd.jupyter.widget-view+json": {
       "model_id": "565131ed3de94ed088f0b120ac6dec52",
       "version_major": 2,
       "version_minor": 0
      },
      "text/plain": [
       "  0%|          | 0/25 [00:00<?, ?it/s]"
      ]
     },
     "metadata": {},
     "output_type": "display_data"
    },
    {
     "name": "stdout",
     "output_type": "stream",
     "text": [
      "Epoch [18/100]: Train loss: 0.8475, Valid loss: 0.6435\n"
     ]
    },
    {
     "data": {
      "application/vnd.jupyter.widget-view+json": {
       "model_id": "17b6819a2be2473386d02c64fd4ee330",
       "version_major": 2,
       "version_minor": 0
      },
      "text/plain": [
       "  0%|          | 0/25 [00:00<?, ?it/s]"
      ]
     },
     "metadata": {},
     "output_type": "display_data"
    },
    {
     "name": "stdout",
     "output_type": "stream",
     "text": [
      "Epoch [19/100]: Train loss: 0.8215, Valid loss: 0.6329\n",
      "Saving model with loss 0.6329\n"
     ]
    },
    {
     "data": {
      "application/vnd.jupyter.widget-view+json": {
       "model_id": "0eb2b16f17044fce873aadb2c7065e27",
       "version_major": 2,
       "version_minor": 0
      },
      "text/plain": [
       "  0%|          | 0/25 [00:00<?, ?it/s]"
      ]
     },
     "metadata": {},
     "output_type": "display_data"
    },
    {
     "name": "stdout",
     "output_type": "stream",
     "text": [
      "Epoch [20/100]: Train loss: 0.8308, Valid loss: 0.6357\n"
     ]
    },
    {
     "data": {
      "application/vnd.jupyter.widget-view+json": {
       "model_id": "b4105b73d0a041b5a1c6503101971e89",
       "version_major": 2,
       "version_minor": 0
      },
      "text/plain": [
       "  0%|          | 0/25 [00:00<?, ?it/s]"
      ]
     },
     "metadata": {},
     "output_type": "display_data"
    },
    {
     "name": "stdout",
     "output_type": "stream",
     "text": [
      "Epoch [21/100]: Train loss: 0.8243, Valid loss: 0.6417\n"
     ]
    },
    {
     "data": {
      "application/vnd.jupyter.widget-view+json": {
       "model_id": "43fb8fbf604044d3adcb16e9b92f281b",
       "version_major": 2,
       "version_minor": 0
      },
      "text/plain": [
       "  0%|          | 0/25 [00:00<?, ?it/s]"
      ]
     },
     "metadata": {},
     "output_type": "display_data"
    },
    {
     "name": "stdout",
     "output_type": "stream",
     "text": [
      "Epoch [22/100]: Train loss: 0.8194, Valid loss: 0.6538\n"
     ]
    },
    {
     "data": {
      "application/vnd.jupyter.widget-view+json": {
       "model_id": "13933fa609064a0cac1f120a3ce83eaa",
       "version_major": 2,
       "version_minor": 0
      },
      "text/plain": [
       "  0%|          | 0/25 [00:00<?, ?it/s]"
      ]
     },
     "metadata": {},
     "output_type": "display_data"
    },
    {
     "name": "stdout",
     "output_type": "stream",
     "text": [
      "Epoch [23/100]: Train loss: 0.8403, Valid loss: 0.6281\n",
      "Saving model with loss 0.6281\n"
     ]
    },
    {
     "data": {
      "application/vnd.jupyter.widget-view+json": {
       "model_id": "85a49714c9e24dda9b8cc8b82bbbe45b",
       "version_major": 2,
       "version_minor": 0
      },
      "text/plain": [
       "  0%|          | 0/25 [00:00<?, ?it/s]"
      ]
     },
     "metadata": {},
     "output_type": "display_data"
    },
    {
     "name": "stdout",
     "output_type": "stream",
     "text": [
      "Epoch [24/100]: Train loss: 0.8206, Valid loss: 0.6306\n"
     ]
    },
    {
     "data": {
      "application/vnd.jupyter.widget-view+json": {
       "model_id": "e3de82c1493c47f5900ae6ff985d4283",
       "version_major": 2,
       "version_minor": 0
      },
      "text/plain": [
       "  0%|          | 0/25 [00:00<?, ?it/s]"
      ]
     },
     "metadata": {},
     "output_type": "display_data"
    },
    {
     "name": "stdout",
     "output_type": "stream",
     "text": [
      "Epoch [25/100]: Train loss: 0.8065, Valid loss: 0.6293\n"
     ]
    },
    {
     "data": {
      "application/vnd.jupyter.widget-view+json": {
       "model_id": "89790c4ed3ac460684bde2ea745d5551",
       "version_major": 2,
       "version_minor": 0
      },
      "text/plain": [
       "  0%|          | 0/25 [00:00<?, ?it/s]"
      ]
     },
     "metadata": {},
     "output_type": "display_data"
    },
    {
     "name": "stdout",
     "output_type": "stream",
     "text": [
      "Epoch [26/100]: Train loss: 0.7973, Valid loss: 0.6313\n"
     ]
    },
    {
     "data": {
      "application/vnd.jupyter.widget-view+json": {
       "model_id": "0e79a14073624bf1b416b40d93b0fde2",
       "version_major": 2,
       "version_minor": 0
      },
      "text/plain": [
       "  0%|          | 0/25 [00:00<?, ?it/s]"
      ]
     },
     "metadata": {},
     "output_type": "display_data"
    },
    {
     "name": "stdout",
     "output_type": "stream",
     "text": [
      "Epoch [27/100]: Train loss: 0.8116, Valid loss: 0.6297\n"
     ]
    },
    {
     "data": {
      "application/vnd.jupyter.widget-view+json": {
       "model_id": "0cb74d8488f141ac902547bf560fd71a",
       "version_major": 2,
       "version_minor": 0
      },
      "text/plain": [
       "  0%|          | 0/25 [00:00<?, ?it/s]"
      ]
     },
     "metadata": {},
     "output_type": "display_data"
    },
    {
     "name": "stdout",
     "output_type": "stream",
     "text": [
      "Epoch [28/100]: Train loss: 0.8113, Valid loss: 0.6248\n",
      "Saving model with loss 0.6248\n"
     ]
    },
    {
     "data": {
      "application/vnd.jupyter.widget-view+json": {
       "model_id": "e2d440c555b9478da84127b2ae288f9e",
       "version_major": 2,
       "version_minor": 0
      },
      "text/plain": [
       "  0%|          | 0/25 [00:00<?, ?it/s]"
      ]
     },
     "metadata": {},
     "output_type": "display_data"
    },
    {
     "name": "stdout",
     "output_type": "stream",
     "text": [
      "Epoch [29/100]: Train loss: 0.7911, Valid loss: 0.6302\n"
     ]
    },
    {
     "data": {
      "application/vnd.jupyter.widget-view+json": {
       "model_id": "e433c96dd19a43f0a541c687c52220c5",
       "version_major": 2,
       "version_minor": 0
      },
      "text/plain": [
       "  0%|          | 0/25 [00:00<?, ?it/s]"
      ]
     },
     "metadata": {},
     "output_type": "display_data"
    },
    {
     "name": "stdout",
     "output_type": "stream",
     "text": [
      "Epoch [30/100]: Train loss: 0.7831, Valid loss: 0.6307\n"
     ]
    },
    {
     "data": {
      "application/vnd.jupyter.widget-view+json": {
       "model_id": "dd65118a7bbf48a187f02c9fa7af3498",
       "version_major": 2,
       "version_minor": 0
      },
      "text/plain": [
       "  0%|          | 0/25 [00:00<?, ?it/s]"
      ]
     },
     "metadata": {},
     "output_type": "display_data"
    },
    {
     "name": "stdout",
     "output_type": "stream",
     "text": [
      "Epoch [31/100]: Train loss: 0.8066, Valid loss: 0.6478\n"
     ]
    },
    {
     "data": {
      "application/vnd.jupyter.widget-view+json": {
       "model_id": "d885ec33391146f29fb3d5fc159570bc",
       "version_major": 2,
       "version_minor": 0
      },
      "text/plain": [
       "  0%|          | 0/25 [00:00<?, ?it/s]"
      ]
     },
     "metadata": {},
     "output_type": "display_data"
    },
    {
     "name": "stdout",
     "output_type": "stream",
     "text": [
      "Epoch [32/100]: Train loss: 0.8017, Valid loss: 0.6221\n",
      "Saving model with loss 0.6221\n"
     ]
    },
    {
     "data": {
      "application/vnd.jupyter.widget-view+json": {
       "model_id": "c2825de0a3a349e8b71e30dea044b729",
       "version_major": 2,
       "version_minor": 0
      },
      "text/plain": [
       "  0%|          | 0/25 [00:00<?, ?it/s]"
      ]
     },
     "metadata": {},
     "output_type": "display_data"
    },
    {
     "name": "stdout",
     "output_type": "stream",
     "text": [
      "Epoch [33/100]: Train loss: 0.7988, Valid loss: 0.6289\n"
     ]
    },
    {
     "data": {
      "application/vnd.jupyter.widget-view+json": {
       "model_id": "1eb4e894d8e1455fa80d965f834c1229",
       "version_major": 2,
       "version_minor": 0
      },
      "text/plain": [
       "  0%|          | 0/25 [00:00<?, ?it/s]"
      ]
     },
     "metadata": {},
     "output_type": "display_data"
    },
    {
     "name": "stdout",
     "output_type": "stream",
     "text": [
      "Epoch [34/100]: Train loss: 0.7769, Valid loss: 0.6265\n"
     ]
    },
    {
     "data": {
      "application/vnd.jupyter.widget-view+json": {
       "model_id": "68cdde1c861a47aab829a15fe07880ed",
       "version_major": 2,
       "version_minor": 0
      },
      "text/plain": [
       "  0%|          | 0/25 [00:00<?, ?it/s]"
      ]
     },
     "metadata": {},
     "output_type": "display_data"
    },
    {
     "name": "stdout",
     "output_type": "stream",
     "text": [
      "Epoch [35/100]: Train loss: 0.7744, Valid loss: 0.6413\n"
     ]
    },
    {
     "data": {
      "application/vnd.jupyter.widget-view+json": {
       "model_id": "511bc67341a84acaa63b3441998a1983",
       "version_major": 2,
       "version_minor": 0
      },
      "text/plain": [
       "  0%|          | 0/25 [00:00<?, ?it/s]"
      ]
     },
     "metadata": {},
     "output_type": "display_data"
    },
    {
     "name": "stdout",
     "output_type": "stream",
     "text": [
      "Epoch [36/100]: Train loss: 0.7694, Valid loss: 0.6308\n"
     ]
    },
    {
     "data": {
      "application/vnd.jupyter.widget-view+json": {
       "model_id": "e95f7da9b4e84145a9f2322c8da01625",
       "version_major": 2,
       "version_minor": 0
      },
      "text/plain": [
       "  0%|          | 0/25 [00:00<?, ?it/s]"
      ]
     },
     "metadata": {},
     "output_type": "display_data"
    },
    {
     "name": "stdout",
     "output_type": "stream",
     "text": [
      "Epoch [37/100]: Train loss: 0.7743, Valid loss: 0.6357\n"
     ]
    },
    {
     "data": {
      "application/vnd.jupyter.widget-view+json": {
       "model_id": "276490850b4d440da970fc78fe00b3d4",
       "version_major": 2,
       "version_minor": 0
      },
      "text/plain": [
       "  0%|          | 0/25 [00:00<?, ?it/s]"
      ]
     },
     "metadata": {},
     "output_type": "display_data"
    },
    {
     "name": "stdout",
     "output_type": "stream",
     "text": [
      "Epoch [38/100]: Train loss: 0.7691, Valid loss: 0.6369\n"
     ]
    },
    {
     "data": {
      "application/vnd.jupyter.widget-view+json": {
       "model_id": "a4155e75ef3c4d25824da9d32e59b1db",
       "version_major": 2,
       "version_minor": 0
      },
      "text/plain": [
       "  0%|          | 0/25 [00:00<?, ?it/s]"
      ]
     },
     "metadata": {},
     "output_type": "display_data"
    },
    {
     "name": "stdout",
     "output_type": "stream",
     "text": [
      "Epoch [39/100]: Train loss: 0.7659, Valid loss: 0.6430\n"
     ]
    },
    {
     "data": {
      "application/vnd.jupyter.widget-view+json": {
       "model_id": "cf2d8b9d0cbf4395ae5d8652451129fd",
       "version_major": 2,
       "version_minor": 0
      },
      "text/plain": [
       "  0%|          | 0/25 [00:00<?, ?it/s]"
      ]
     },
     "metadata": {},
     "output_type": "display_data"
    },
    {
     "name": "stdout",
     "output_type": "stream",
     "text": [
      "Epoch [40/100]: Train loss: 0.7529, Valid loss: 0.6323\n"
     ]
    },
    {
     "data": {
      "application/vnd.jupyter.widget-view+json": {
       "model_id": "ed25e73ae4f9485b93ea6f7327d4d33e",
       "version_major": 2,
       "version_minor": 0
      },
      "text/plain": [
       "  0%|          | 0/25 [00:00<?, ?it/s]"
      ]
     },
     "metadata": {},
     "output_type": "display_data"
    },
    {
     "name": "stdout",
     "output_type": "stream",
     "text": [
      "Epoch [41/100]: Train loss: 0.7613, Valid loss: 0.6464\n"
     ]
    },
    {
     "data": {
      "application/vnd.jupyter.widget-view+json": {
       "model_id": "217f0aed6d7a46e4840e899d7bfd56c1",
       "version_major": 2,
       "version_minor": 0
      },
      "text/plain": [
       "  0%|          | 0/25 [00:00<?, ?it/s]"
      ]
     },
     "metadata": {},
     "output_type": "display_data"
    },
    {
     "name": "stdout",
     "output_type": "stream",
     "text": [
      "Epoch [42/100]: Train loss: 0.7521, Valid loss: 0.6288\n",
      "\n",
      " Model is not improving, Stop training session.\n"
     ]
    }
   ],
   "source": [
    "num_epoch = config['n_epochs']\n",
    "teacher_model = ComplexModel().to(device)\n",
    "final_train_teacher(labeled_train_loader, valid_loader, teacher_model, \"Teacher\", epochs_num = num_epoch)"
   ]
  },
  {
   "cell_type": "code",
   "execution_count": 33,
   "id": "blond-hungary",
   "metadata": {},
   "outputs": [
    {
     "name": "stdout",
     "output_type": "stream",
     "text": [
      "\n",
      "now we can test the accuracy in the test set: \n",
      "test acc: 0.9225119353654058\n"
     ]
    }
   ],
   "source": [
    "\n",
    "    \n",
    "# Test teacher 測試集Acc\n",
    "test_acc = 0\n",
    "teacher_model = ComplexModel().to(device)\n",
    "teacher_model.load_state_dict(torch.load(config['save_path_large']))\n",
    "teacher_model.eval()\n",
    "with torch.no_grad():\n",
    "    print(\"\\nnow we can test the accuracy in the test set: \")\n",
    "    for datas, labels, _ in test_loader:\n",
    "        datas, labels = datas.to(device), labels.to(device)\n",
    "        outputs = teacher_model(datas)\n",
    "        _, test_pred = torch.max(outputs, 1)\n",
    "        test_acc += (test_pred.cpu() == labels.cpu()).sum().item() # get the index of the class with the highest probability\n",
    "    print(f\"test acc: {test_acc/(len(dataset_test))}\")"
   ]
  },
  {
   "cell_type": "code",
   "execution_count": 34,
   "id": "stunning-interface",
   "metadata": {
    "scrolled": true
   },
   "outputs": [
    {
     "data": {
      "application/vnd.jupyter.widget-view+json": {
       "model_id": "2ebaf5602209443a8f5470ed09deae67",
       "version_major": 2,
       "version_minor": 0
      },
      "text/plain": [
       "  0%|          | 0/25 [00:00<?, ?it/s]"
      ]
     },
     "metadata": {},
     "output_type": "display_data"
    },
    {
     "name": "stdout",
     "output_type": "stream",
     "text": [
      "Epoch [1/100]: Train loss: 1.5098, Valid loss: 1.7975\n",
      "Saving model with loss 1.7975\n"
     ]
    },
    {
     "data": {
      "application/vnd.jupyter.widget-view+json": {
       "model_id": "d954cc1c956a4d2d9fbc2ac68f4c5a79",
       "version_major": 2,
       "version_minor": 0
      },
      "text/plain": [
       "  0%|          | 0/25 [00:00<?, ?it/s]"
      ]
     },
     "metadata": {},
     "output_type": "display_data"
    },
    {
     "name": "stdout",
     "output_type": "stream",
     "text": [
      "Epoch [2/100]: Train loss: 1.2679, Valid loss: 1.5281\n",
      "Saving model with loss 1.5281\n"
     ]
    },
    {
     "data": {
      "application/vnd.jupyter.widget-view+json": {
       "model_id": "a4eead64a52b4a4ca3cbf6570cb9df05",
       "version_major": 2,
       "version_minor": 0
      },
      "text/plain": [
       "  0%|          | 0/25 [00:00<?, ?it/s]"
      ]
     },
     "metadata": {},
     "output_type": "display_data"
    },
    {
     "name": "stdout",
     "output_type": "stream",
     "text": [
      "Epoch [3/100]: Train loss: 1.0675, Valid loss: 1.3298\n",
      "Saving model with loss 1.3298\n"
     ]
    },
    {
     "data": {
      "application/vnd.jupyter.widget-view+json": {
       "model_id": "42530888d6bc4f9b8d9028501540d477",
       "version_major": 2,
       "version_minor": 0
      },
      "text/plain": [
       "  0%|          | 0/25 [00:00<?, ?it/s]"
      ]
     },
     "metadata": {},
     "output_type": "display_data"
    },
    {
     "name": "stdout",
     "output_type": "stream",
     "text": [
      "Epoch [4/100]: Train loss: 0.9190, Valid loss: 1.2155\n",
      "Saving model with loss 1.2155\n"
     ]
    },
    {
     "data": {
      "application/vnd.jupyter.widget-view+json": {
       "model_id": "96669e655a26480aa2f7ff260304ffd5",
       "version_major": 2,
       "version_minor": 0
      },
      "text/plain": [
       "  0%|          | 0/25 [00:00<?, ?it/s]"
      ]
     },
     "metadata": {},
     "output_type": "display_data"
    },
    {
     "name": "stdout",
     "output_type": "stream",
     "text": [
      "Epoch [5/100]: Train loss: 0.8246, Valid loss: 1.1262\n",
      "Saving model with loss 1.1262\n"
     ]
    },
    {
     "data": {
      "application/vnd.jupyter.widget-view+json": {
       "model_id": "f35244af5bf54606b8e588d553fb1664",
       "version_major": 2,
       "version_minor": 0
      },
      "text/plain": [
       "  0%|          | 0/25 [00:00<?, ?it/s]"
      ]
     },
     "metadata": {},
     "output_type": "display_data"
    },
    {
     "name": "stdout",
     "output_type": "stream",
     "text": [
      "Epoch [6/100]: Train loss: 0.7532, Valid loss: 1.0369\n",
      "Saving model with loss 1.0369\n"
     ]
    },
    {
     "data": {
      "application/vnd.jupyter.widget-view+json": {
       "model_id": "8799dd4ea5404136a2a8751aa7b200bf",
       "version_major": 2,
       "version_minor": 0
      },
      "text/plain": [
       "  0%|          | 0/25 [00:00<?, ?it/s]"
      ]
     },
     "metadata": {},
     "output_type": "display_data"
    },
    {
     "name": "stdout",
     "output_type": "stream",
     "text": [
      "Epoch [7/100]: Train loss: 0.6956, Valid loss: 0.9558\n",
      "Saving model with loss 0.9558\n"
     ]
    },
    {
     "data": {
      "application/vnd.jupyter.widget-view+json": {
       "model_id": "8e372ead6d3e4396b72b9bd9985133fd",
       "version_major": 2,
       "version_minor": 0
      },
      "text/plain": [
       "  0%|          | 0/25 [00:00<?, ?it/s]"
      ]
     },
     "metadata": {},
     "output_type": "display_data"
    },
    {
     "name": "stdout",
     "output_type": "stream",
     "text": [
      "Epoch [8/100]: Train loss: 0.6477, Valid loss: 0.8815\n",
      "Saving model with loss 0.8815\n"
     ]
    },
    {
     "data": {
      "application/vnd.jupyter.widget-view+json": {
       "model_id": "af0f7e8ddca84e549180ab650ee6144c",
       "version_major": 2,
       "version_minor": 0
      },
      "text/plain": [
       "  0%|          | 0/25 [00:00<?, ?it/s]"
      ]
     },
     "metadata": {},
     "output_type": "display_data"
    },
    {
     "name": "stdout",
     "output_type": "stream",
     "text": [
      "Epoch [9/100]: Train loss: 0.6030, Valid loss: 0.8216\n",
      "Saving model with loss 0.8216\n"
     ]
    },
    {
     "data": {
      "application/vnd.jupyter.widget-view+json": {
       "model_id": "9405376775a049fcbe45c4ef4e3a7191",
       "version_major": 2,
       "version_minor": 0
      },
      "text/plain": [
       "  0%|          | 0/25 [00:00<?, ?it/s]"
      ]
     },
     "metadata": {},
     "output_type": "display_data"
    },
    {
     "name": "stdout",
     "output_type": "stream",
     "text": [
      "Epoch [10/100]: Train loss: 0.5618, Valid loss: 0.7635\n",
      "Saving model with loss 0.7635\n"
     ]
    },
    {
     "data": {
      "application/vnd.jupyter.widget-view+json": {
       "model_id": "ccb8e318feb6408cbe30e0747777acab",
       "version_major": 2,
       "version_minor": 0
      },
      "text/plain": [
       "  0%|          | 0/25 [00:00<?, ?it/s]"
      ]
     },
     "metadata": {},
     "output_type": "display_data"
    },
    {
     "name": "stdout",
     "output_type": "stream",
     "text": [
      "Epoch [11/100]: Train loss: 0.5207, Valid loss: 0.7164\n",
      "Saving model with loss 0.7164\n"
     ]
    },
    {
     "data": {
      "application/vnd.jupyter.widget-view+json": {
       "model_id": "0e08dbdc7f60405e96142d60d5b6b058",
       "version_major": 2,
       "version_minor": 0
      },
      "text/plain": [
       "  0%|          | 0/25 [00:00<?, ?it/s]"
      ]
     },
     "metadata": {},
     "output_type": "display_data"
    },
    {
     "name": "stdout",
     "output_type": "stream",
     "text": [
      "Epoch [12/100]: Train loss: 0.4855, Valid loss: 0.6669\n",
      "Saving model with loss 0.6669\n"
     ]
    },
    {
     "data": {
      "application/vnd.jupyter.widget-view+json": {
       "model_id": "afc2f9bb67094567b88b9974e9cfb456",
       "version_major": 2,
       "version_minor": 0
      },
      "text/plain": [
       "  0%|          | 0/25 [00:00<?, ?it/s]"
      ]
     },
     "metadata": {},
     "output_type": "display_data"
    },
    {
     "name": "stdout",
     "output_type": "stream",
     "text": [
      "Epoch [13/100]: Train loss: 0.4532, Valid loss: 0.6197\n",
      "Saving model with loss 0.6197\n"
     ]
    },
    {
     "data": {
      "application/vnd.jupyter.widget-view+json": {
       "model_id": "b600f98d370e42969fd72b6a21a9c68d",
       "version_major": 2,
       "version_minor": 0
      },
      "text/plain": [
       "  0%|          | 0/25 [00:00<?, ?it/s]"
      ]
     },
     "metadata": {},
     "output_type": "display_data"
    },
    {
     "name": "stdout",
     "output_type": "stream",
     "text": [
      "Epoch [14/100]: Train loss: 0.4254, Valid loss: 0.5762\n",
      "Saving model with loss 0.5762\n"
     ]
    },
    {
     "data": {
      "application/vnd.jupyter.widget-view+json": {
       "model_id": "d691df41e8f443c7b8e1ffac460eb458",
       "version_major": 2,
       "version_minor": 0
      },
      "text/plain": [
       "  0%|          | 0/25 [00:00<?, ?it/s]"
      ]
     },
     "metadata": {},
     "output_type": "display_data"
    },
    {
     "name": "stdout",
     "output_type": "stream",
     "text": [
      "Epoch [15/100]: Train loss: 0.4011, Valid loss: 0.5451\n",
      "Saving model with loss 0.5451\n"
     ]
    },
    {
     "data": {
      "application/vnd.jupyter.widget-view+json": {
       "model_id": "21a0c76d176248d49c0b616617ff604b",
       "version_major": 2,
       "version_minor": 0
      },
      "text/plain": [
       "  0%|          | 0/25 [00:00<?, ?it/s]"
      ]
     },
     "metadata": {},
     "output_type": "display_data"
    },
    {
     "name": "stdout",
     "output_type": "stream",
     "text": [
      "Epoch [16/100]: Train loss: 0.3791, Valid loss: 0.5027\n",
      "Saving model with loss 0.5027\n"
     ]
    },
    {
     "data": {
      "application/vnd.jupyter.widget-view+json": {
       "model_id": "3fd0b0c8cf004084bc113daa62d215d9",
       "version_major": 2,
       "version_minor": 0
      },
      "text/plain": [
       "  0%|          | 0/25 [00:00<?, ?it/s]"
      ]
     },
     "metadata": {},
     "output_type": "display_data"
    },
    {
     "name": "stdout",
     "output_type": "stream",
     "text": [
      "Epoch [17/100]: Train loss: 0.3600, Valid loss: 0.4694\n",
      "Saving model with loss 0.4694\n"
     ]
    },
    {
     "data": {
      "application/vnd.jupyter.widget-view+json": {
       "model_id": "7de71491aaf44684bf90b3232df39857",
       "version_major": 2,
       "version_minor": 0
      },
      "text/plain": [
       "  0%|          | 0/25 [00:00<?, ?it/s]"
      ]
     },
     "metadata": {},
     "output_type": "display_data"
    },
    {
     "name": "stdout",
     "output_type": "stream",
     "text": [
      "Epoch [18/100]: Train loss: 0.3436, Valid loss: 0.4447\n",
      "Saving model with loss 0.4447\n"
     ]
    },
    {
     "data": {
      "application/vnd.jupyter.widget-view+json": {
       "model_id": "1ce32cffb9204905a95fec736722cecd",
       "version_major": 2,
       "version_minor": 0
      },
      "text/plain": [
       "  0%|          | 0/25 [00:00<?, ?it/s]"
      ]
     },
     "metadata": {},
     "output_type": "display_data"
    },
    {
     "name": "stdout",
     "output_type": "stream",
     "text": [
      "Epoch [19/100]: Train loss: 0.3276, Valid loss: 0.4192\n",
      "Saving model with loss 0.4192\n"
     ]
    },
    {
     "data": {
      "application/vnd.jupyter.widget-view+json": {
       "model_id": "1260f2159882417cb7541d3c286d644c",
       "version_major": 2,
       "version_minor": 0
      },
      "text/plain": [
       "  0%|          | 0/25 [00:00<?, ?it/s]"
      ]
     },
     "metadata": {},
     "output_type": "display_data"
    },
    {
     "name": "stdout",
     "output_type": "stream",
     "text": [
      "Epoch [20/100]: Train loss: 0.3130, Valid loss: 0.3960\n",
      "Saving model with loss 0.3960\n"
     ]
    },
    {
     "data": {
      "application/vnd.jupyter.widget-view+json": {
       "model_id": "ad3b2b26cf0b48159edbcbbe9fbe983e",
       "version_major": 2,
       "version_minor": 0
      },
      "text/plain": [
       "  0%|          | 0/25 [00:00<?, ?it/s]"
      ]
     },
     "metadata": {},
     "output_type": "display_data"
    },
    {
     "name": "stdout",
     "output_type": "stream",
     "text": [
      "Epoch [21/100]: Train loss: 0.3024, Valid loss: 0.3735\n",
      "Saving model with loss 0.3735\n"
     ]
    },
    {
     "data": {
      "application/vnd.jupyter.widget-view+json": {
       "model_id": "d0b98cc68b144bc2a0046383c03b0aae",
       "version_major": 2,
       "version_minor": 0
      },
      "text/plain": [
       "  0%|          | 0/25 [00:00<?, ?it/s]"
      ]
     },
     "metadata": {},
     "output_type": "display_data"
    },
    {
     "name": "stdout",
     "output_type": "stream",
     "text": [
      "Epoch [22/100]: Train loss: 0.2904, Valid loss: 0.3481\n",
      "Saving model with loss 0.3481\n"
     ]
    },
    {
     "data": {
      "application/vnd.jupyter.widget-view+json": {
       "model_id": "587fbbd3bff1447e85a83d783097ab27",
       "version_major": 2,
       "version_minor": 0
      },
      "text/plain": [
       "  0%|          | 0/25 [00:00<?, ?it/s]"
      ]
     },
     "metadata": {},
     "output_type": "display_data"
    },
    {
     "name": "stdout",
     "output_type": "stream",
     "text": [
      "Epoch [23/100]: Train loss: 0.2790, Valid loss: 0.3350\n",
      "Saving model with loss 0.3350\n"
     ]
    },
    {
     "data": {
      "application/vnd.jupyter.widget-view+json": {
       "model_id": "6f63ac3a529d45ab9571457b6411a0e7",
       "version_major": 2,
       "version_minor": 0
      },
      "text/plain": [
       "  0%|          | 0/25 [00:00<?, ?it/s]"
      ]
     },
     "metadata": {},
     "output_type": "display_data"
    },
    {
     "name": "stdout",
     "output_type": "stream",
     "text": [
      "Epoch [24/100]: Train loss: 0.2683, Valid loss: 0.3134\n",
      "Saving model with loss 0.3134\n"
     ]
    },
    {
     "data": {
      "application/vnd.jupyter.widget-view+json": {
       "model_id": "4d2fde99b8724726be8323121bdd8af2",
       "version_major": 2,
       "version_minor": 0
      },
      "text/plain": [
       "  0%|          | 0/25 [00:00<?, ?it/s]"
      ]
     },
     "metadata": {},
     "output_type": "display_data"
    },
    {
     "name": "stdout",
     "output_type": "stream",
     "text": [
      "Epoch [25/100]: Train loss: 0.2601, Valid loss: 0.2947\n",
      "Saving model with loss 0.2947\n"
     ]
    },
    {
     "data": {
      "application/vnd.jupyter.widget-view+json": {
       "model_id": "cdfc6cc676e048b1ab6cddd1276c3e74",
       "version_major": 2,
       "version_minor": 0
      },
      "text/plain": [
       "  0%|          | 0/25 [00:00<?, ?it/s]"
      ]
     },
     "metadata": {},
     "output_type": "display_data"
    },
    {
     "name": "stdout",
     "output_type": "stream",
     "text": [
      "Epoch [26/100]: Train loss: 0.2512, Valid loss: 0.2810\n",
      "Saving model with loss 0.2810\n"
     ]
    },
    {
     "data": {
      "application/vnd.jupyter.widget-view+json": {
       "model_id": "5e1816738f9f40f1bf4eea5a654257f3",
       "version_major": 2,
       "version_minor": 0
      },
      "text/plain": [
       "  0%|          | 0/25 [00:00<?, ?it/s]"
      ]
     },
     "metadata": {},
     "output_type": "display_data"
    },
    {
     "name": "stdout",
     "output_type": "stream",
     "text": [
      "Epoch [27/100]: Train loss: 0.2423, Valid loss: 0.2664\n",
      "Saving model with loss 0.2664\n"
     ]
    },
    {
     "data": {
      "application/vnd.jupyter.widget-view+json": {
       "model_id": "1d9931b25bd949e4aefbb96a26a31cce",
       "version_major": 2,
       "version_minor": 0
      },
      "text/plain": [
       "  0%|          | 0/25 [00:00<?, ?it/s]"
      ]
     },
     "metadata": {},
     "output_type": "display_data"
    },
    {
     "name": "stdout",
     "output_type": "stream",
     "text": [
      "Epoch [28/100]: Train loss: 0.2341, Valid loss: 0.2571\n",
      "Saving model with loss 0.2571\n"
     ]
    },
    {
     "data": {
      "application/vnd.jupyter.widget-view+json": {
       "model_id": "189ba973661d4a82aa916644fb4daec0",
       "version_major": 2,
       "version_minor": 0
      },
      "text/plain": [
       "  0%|          | 0/25 [00:00<?, ?it/s]"
      ]
     },
     "metadata": {},
     "output_type": "display_data"
    },
    {
     "name": "stdout",
     "output_type": "stream",
     "text": [
      "Epoch [29/100]: Train loss: 0.2265, Valid loss: 0.2402\n",
      "Saving model with loss 0.2402\n"
     ]
    },
    {
     "data": {
      "application/vnd.jupyter.widget-view+json": {
       "model_id": "b3bb8542cc2a4ccd9061631ee40d0c4a",
       "version_major": 2,
       "version_minor": 0
      },
      "text/plain": [
       "  0%|          | 0/25 [00:00<?, ?it/s]"
      ]
     },
     "metadata": {},
     "output_type": "display_data"
    },
    {
     "name": "stdout",
     "output_type": "stream",
     "text": [
      "Epoch [30/100]: Train loss: 0.2219, Valid loss: 0.2285\n",
      "Saving model with loss 0.2285\n"
     ]
    },
    {
     "data": {
      "application/vnd.jupyter.widget-view+json": {
       "model_id": "e332e44f0ba44b029a6b75553acdf647",
       "version_major": 2,
       "version_minor": 0
      },
      "text/plain": [
       "  0%|          | 0/25 [00:00<?, ?it/s]"
      ]
     },
     "metadata": {},
     "output_type": "display_data"
    },
    {
     "name": "stdout",
     "output_type": "stream",
     "text": [
      "Epoch [31/100]: Train loss: 0.2157, Valid loss: 0.2203\n",
      "Saving model with loss 0.2203\n"
     ]
    },
    {
     "data": {
      "application/vnd.jupyter.widget-view+json": {
       "model_id": "98a27210973140da975e7d5edba8f199",
       "version_major": 2,
       "version_minor": 0
      },
      "text/plain": [
       "  0%|          | 0/25 [00:00<?, ?it/s]"
      ]
     },
     "metadata": {},
     "output_type": "display_data"
    },
    {
     "name": "stdout",
     "output_type": "stream",
     "text": [
      "Epoch [32/100]: Train loss: 0.2082, Valid loss: 0.2123\n",
      "Saving model with loss 0.2123\n"
     ]
    },
    {
     "data": {
      "application/vnd.jupyter.widget-view+json": {
       "model_id": "360a1b6ba5fc4f0bb45df4ba6ee5e849",
       "version_major": 2,
       "version_minor": 0
      },
      "text/plain": [
       "  0%|          | 0/25 [00:00<?, ?it/s]"
      ]
     },
     "metadata": {},
     "output_type": "display_data"
    },
    {
     "name": "stdout",
     "output_type": "stream",
     "text": [
      "Epoch [33/100]: Train loss: 0.2017, Valid loss: 0.2010\n",
      "Saving model with loss 0.2010\n"
     ]
    },
    {
     "data": {
      "application/vnd.jupyter.widget-view+json": {
       "model_id": "c7413d608d434e37b867037fd69c39bf",
       "version_major": 2,
       "version_minor": 0
      },
      "text/plain": [
       "  0%|          | 0/25 [00:00<?, ?it/s]"
      ]
     },
     "metadata": {},
     "output_type": "display_data"
    },
    {
     "name": "stdout",
     "output_type": "stream",
     "text": [
      "Epoch [34/100]: Train loss: 0.1971, Valid loss: 0.1932\n",
      "Saving model with loss 0.1932\n"
     ]
    },
    {
     "data": {
      "application/vnd.jupyter.widget-view+json": {
       "model_id": "c4105b9d48b2480598726eeceb473611",
       "version_major": 2,
       "version_minor": 0
      },
      "text/plain": [
       "  0%|          | 0/25 [00:00<?, ?it/s]"
      ]
     },
     "metadata": {},
     "output_type": "display_data"
    },
    {
     "name": "stdout",
     "output_type": "stream",
     "text": [
      "Epoch [35/100]: Train loss: 0.1923, Valid loss: 0.1872\n",
      "Saving model with loss 0.1872\n"
     ]
    },
    {
     "data": {
      "application/vnd.jupyter.widget-view+json": {
       "model_id": "d41f70d449254a689e9a1baacb5e05c2",
       "version_major": 2,
       "version_minor": 0
      },
      "text/plain": [
       "  0%|          | 0/25 [00:00<?, ?it/s]"
      ]
     },
     "metadata": {},
     "output_type": "display_data"
    },
    {
     "name": "stdout",
     "output_type": "stream",
     "text": [
      "Epoch [36/100]: Train loss: 0.1873, Valid loss: 0.1827\n",
      "Saving model with loss 0.1827\n"
     ]
    },
    {
     "data": {
      "application/vnd.jupyter.widget-view+json": {
       "model_id": "fa28fb87d1074b769c9058071d629c5e",
       "version_major": 2,
       "version_minor": 0
      },
      "text/plain": [
       "  0%|          | 0/25 [00:00<?, ?it/s]"
      ]
     },
     "metadata": {},
     "output_type": "display_data"
    },
    {
     "name": "stdout",
     "output_type": "stream",
     "text": [
      "Epoch [37/100]: Train loss: 0.1820, Valid loss: 0.1742\n",
      "Saving model with loss 0.1742\n"
     ]
    },
    {
     "data": {
      "application/vnd.jupyter.widget-view+json": {
       "model_id": "e7569aa776b0450cb5b2c7d41ffe7bd1",
       "version_major": 2,
       "version_minor": 0
      },
      "text/plain": [
       "  0%|          | 0/25 [00:00<?, ?it/s]"
      ]
     },
     "metadata": {},
     "output_type": "display_data"
    },
    {
     "name": "stdout",
     "output_type": "stream",
     "text": [
      "Epoch [38/100]: Train loss: 0.1779, Valid loss: 0.1680\n",
      "Saving model with loss 0.1680\n"
     ]
    },
    {
     "data": {
      "application/vnd.jupyter.widget-view+json": {
       "model_id": "2a0723500df14635b46ff2ce21808826",
       "version_major": 2,
       "version_minor": 0
      },
      "text/plain": [
       "  0%|          | 0/25 [00:00<?, ?it/s]"
      ]
     },
     "metadata": {},
     "output_type": "display_data"
    },
    {
     "name": "stdout",
     "output_type": "stream",
     "text": [
      "Epoch [39/100]: Train loss: 0.1739, Valid loss: 0.1613\n",
      "Saving model with loss 0.1613\n"
     ]
    },
    {
     "data": {
      "application/vnd.jupyter.widget-view+json": {
       "model_id": "cda375809b8c4938a1de00c2e4aa8f9b",
       "version_major": 2,
       "version_minor": 0
      },
      "text/plain": [
       "  0%|          | 0/25 [00:00<?, ?it/s]"
      ]
     },
     "metadata": {},
     "output_type": "display_data"
    },
    {
     "name": "stdout",
     "output_type": "stream",
     "text": [
      "Epoch [40/100]: Train loss: 0.1692, Valid loss: 0.1585\n",
      "Saving model with loss 0.1585\n"
     ]
    },
    {
     "data": {
      "application/vnd.jupyter.widget-view+json": {
       "model_id": "22c676e2db19494cbcfac16540e3698f",
       "version_major": 2,
       "version_minor": 0
      },
      "text/plain": [
       "  0%|          | 0/25 [00:00<?, ?it/s]"
      ]
     },
     "metadata": {},
     "output_type": "display_data"
    },
    {
     "name": "stdout",
     "output_type": "stream",
     "text": [
      "Epoch [41/100]: Train loss: 0.1650, Valid loss: 0.1516\n",
      "Saving model with loss 0.1516\n"
     ]
    },
    {
     "data": {
      "application/vnd.jupyter.widget-view+json": {
       "model_id": "f3978627eb4b429e83c1feecf8fcd626",
       "version_major": 2,
       "version_minor": 0
      },
      "text/plain": [
       "  0%|          | 0/25 [00:00<?, ?it/s]"
      ]
     },
     "metadata": {},
     "output_type": "display_data"
    },
    {
     "name": "stdout",
     "output_type": "stream",
     "text": [
      "Epoch [42/100]: Train loss: 0.1622, Valid loss: 0.1477\n",
      "Saving model with loss 0.1477\n"
     ]
    },
    {
     "data": {
      "application/vnd.jupyter.widget-view+json": {
       "model_id": "aad62e79e2e84847b6e0e43bb6dbcf8e",
       "version_major": 2,
       "version_minor": 0
      },
      "text/plain": [
       "  0%|          | 0/25 [00:00<?, ?it/s]"
      ]
     },
     "metadata": {},
     "output_type": "display_data"
    },
    {
     "name": "stdout",
     "output_type": "stream",
     "text": [
      "Epoch [43/100]: Train loss: 0.1590, Valid loss: 0.1445\n",
      "Saving model with loss 0.1445\n"
     ]
    },
    {
     "data": {
      "application/vnd.jupyter.widget-view+json": {
       "model_id": "c4715af419ce479b998cc1acb6c6a430",
       "version_major": 2,
       "version_minor": 0
      },
      "text/plain": [
       "  0%|          | 0/25 [00:00<?, ?it/s]"
      ]
     },
     "metadata": {},
     "output_type": "display_data"
    },
    {
     "name": "stdout",
     "output_type": "stream",
     "text": [
      "Epoch [44/100]: Train loss: 0.1562, Valid loss: 0.1379\n",
      "Saving model with loss 0.1379\n"
     ]
    },
    {
     "data": {
      "application/vnd.jupyter.widget-view+json": {
       "model_id": "0a6a53759d6a43f8ae949bc16b5c4a69",
       "version_major": 2,
       "version_minor": 0
      },
      "text/plain": [
       "  0%|          | 0/25 [00:00<?, ?it/s]"
      ]
     },
     "metadata": {},
     "output_type": "display_data"
    },
    {
     "name": "stdout",
     "output_type": "stream",
     "text": [
      "Epoch [45/100]: Train loss: 0.1518, Valid loss: 0.1355\n",
      "Saving model with loss 0.1355\n"
     ]
    },
    {
     "data": {
      "application/vnd.jupyter.widget-view+json": {
       "model_id": "5d048d8586a04c6e8aa60e62b3a14cf1",
       "version_major": 2,
       "version_minor": 0
      },
      "text/plain": [
       "  0%|          | 0/25 [00:00<?, ?it/s]"
      ]
     },
     "metadata": {},
     "output_type": "display_data"
    },
    {
     "name": "stdout",
     "output_type": "stream",
     "text": [
      "Epoch [46/100]: Train loss: 0.1490, Valid loss: 0.1304\n",
      "Saving model with loss 0.1304\n"
     ]
    },
    {
     "data": {
      "application/vnd.jupyter.widget-view+json": {
       "model_id": "f8dc968f8d1945acbeb92818cb8263a5",
       "version_major": 2,
       "version_minor": 0
      },
      "text/plain": [
       "  0%|          | 0/25 [00:00<?, ?it/s]"
      ]
     },
     "metadata": {},
     "output_type": "display_data"
    },
    {
     "name": "stdout",
     "output_type": "stream",
     "text": [
      "Epoch [47/100]: Train loss: 0.1467, Valid loss: 0.1307\n"
     ]
    },
    {
     "data": {
      "application/vnd.jupyter.widget-view+json": {
       "model_id": "93f654f2a3c146f8ad920187e083196e",
       "version_major": 2,
       "version_minor": 0
      },
      "text/plain": [
       "  0%|          | 0/25 [00:00<?, ?it/s]"
      ]
     },
     "metadata": {},
     "output_type": "display_data"
    },
    {
     "name": "stdout",
     "output_type": "stream",
     "text": [
      "Epoch [48/100]: Train loss: 0.1429, Valid loss: 0.1248\n",
      "Saving model with loss 0.1248\n"
     ]
    },
    {
     "data": {
      "application/vnd.jupyter.widget-view+json": {
       "model_id": "7934d329f764430eb75e9c54927ace73",
       "version_major": 2,
       "version_minor": 0
      },
      "text/plain": [
       "  0%|          | 0/25 [00:00<?, ?it/s]"
      ]
     },
     "metadata": {},
     "output_type": "display_data"
    },
    {
     "name": "stdout",
     "output_type": "stream",
     "text": [
      "Epoch [49/100]: Train loss: 0.1406, Valid loss: 0.1231\n",
      "Saving model with loss 0.1231\n"
     ]
    },
    {
     "data": {
      "application/vnd.jupyter.widget-view+json": {
       "model_id": "e3d68db270004714991f99d700753751",
       "version_major": 2,
       "version_minor": 0
      },
      "text/plain": [
       "  0%|          | 0/25 [00:00<?, ?it/s]"
      ]
     },
     "metadata": {},
     "output_type": "display_data"
    },
    {
     "name": "stdout",
     "output_type": "stream",
     "text": [
      "Epoch [50/100]: Train loss: 0.1370, Valid loss: 0.1179\n",
      "Saving model with loss 0.1179\n"
     ]
    },
    {
     "data": {
      "application/vnd.jupyter.widget-view+json": {
       "model_id": "6e11ef4bd34d4484a93bb95786696ede",
       "version_major": 2,
       "version_minor": 0
      },
      "text/plain": [
       "  0%|          | 0/25 [00:00<?, ?it/s]"
      ]
     },
     "metadata": {},
     "output_type": "display_data"
    },
    {
     "name": "stdout",
     "output_type": "stream",
     "text": [
      "Epoch [51/100]: Train loss: 0.1353, Valid loss: 0.1153\n",
      "Saving model with loss 0.1153\n"
     ]
    },
    {
     "data": {
      "application/vnd.jupyter.widget-view+json": {
       "model_id": "274f526bba68446990074ac779f8afbd",
       "version_major": 2,
       "version_minor": 0
      },
      "text/plain": [
       "  0%|          | 0/25 [00:00<?, ?it/s]"
      ]
     },
     "metadata": {},
     "output_type": "display_data"
    },
    {
     "name": "stdout",
     "output_type": "stream",
     "text": [
      "Epoch [52/100]: Train loss: 0.1330, Valid loss: 0.1135\n",
      "Saving model with loss 0.1135\n"
     ]
    },
    {
     "data": {
      "application/vnd.jupyter.widget-view+json": {
       "model_id": "a763cc78369840c3ba4117526bccfe10",
       "version_major": 2,
       "version_minor": 0
      },
      "text/plain": [
       "  0%|          | 0/25 [00:00<?, ?it/s]"
      ]
     },
     "metadata": {},
     "output_type": "display_data"
    },
    {
     "name": "stdout",
     "output_type": "stream",
     "text": [
      "Epoch [53/100]: Train loss: 0.1307, Valid loss: 0.1117\n",
      "Saving model with loss 0.1117\n"
     ]
    },
    {
     "data": {
      "application/vnd.jupyter.widget-view+json": {
       "model_id": "3f8b1302436f4b37a15546d4f15c0887",
       "version_major": 2,
       "version_minor": 0
      },
      "text/plain": [
       "  0%|          | 0/25 [00:00<?, ?it/s]"
      ]
     },
     "metadata": {},
     "output_type": "display_data"
    },
    {
     "name": "stdout",
     "output_type": "stream",
     "text": [
      "Epoch [54/100]: Train loss: 0.1292, Valid loss: 0.1094\n",
      "Saving model with loss 0.1094\n"
     ]
    },
    {
     "data": {
      "application/vnd.jupyter.widget-view+json": {
       "model_id": "e8dc8b589f8144dc828861a136132c17",
       "version_major": 2,
       "version_minor": 0
      },
      "text/plain": [
       "  0%|          | 0/25 [00:00<?, ?it/s]"
      ]
     },
     "metadata": {},
     "output_type": "display_data"
    },
    {
     "name": "stdout",
     "output_type": "stream",
     "text": [
      "Epoch [55/100]: Train loss: 0.1276, Valid loss: 0.1089\n",
      "Saving model with loss 0.1089\n"
     ]
    },
    {
     "data": {
      "application/vnd.jupyter.widget-view+json": {
       "model_id": "61b79124006c4e7ab09cfe43f4a12f9d",
       "version_major": 2,
       "version_minor": 0
      },
      "text/plain": [
       "  0%|          | 0/25 [00:00<?, ?it/s]"
      ]
     },
     "metadata": {},
     "output_type": "display_data"
    },
    {
     "name": "stdout",
     "output_type": "stream",
     "text": [
      "Epoch [56/100]: Train loss: 0.1246, Valid loss: 0.1051\n",
      "Saving model with loss 0.1051\n"
     ]
    },
    {
     "data": {
      "application/vnd.jupyter.widget-view+json": {
       "model_id": "5e3015f7ef8a4c279146d39abfec2d39",
       "version_major": 2,
       "version_minor": 0
      },
      "text/plain": [
       "  0%|          | 0/25 [00:00<?, ?it/s]"
      ]
     },
     "metadata": {},
     "output_type": "display_data"
    },
    {
     "name": "stdout",
     "output_type": "stream",
     "text": [
      "Epoch [57/100]: Train loss: 0.1226, Valid loss: 0.1032\n",
      "Saving model with loss 0.1032\n"
     ]
    },
    {
     "data": {
      "application/vnd.jupyter.widget-view+json": {
       "model_id": "1162e6e6fbf249fbbecf706d9747ce3a",
       "version_major": 2,
       "version_minor": 0
      },
      "text/plain": [
       "  0%|          | 0/25 [00:00<?, ?it/s]"
      ]
     },
     "metadata": {},
     "output_type": "display_data"
    },
    {
     "name": "stdout",
     "output_type": "stream",
     "text": [
      "Epoch [58/100]: Train loss: 0.1206, Valid loss: 0.1020\n",
      "Saving model with loss 0.1020\n"
     ]
    },
    {
     "data": {
      "application/vnd.jupyter.widget-view+json": {
       "model_id": "0692bad9089a49fcbec7d1235e843b92",
       "version_major": 2,
       "version_minor": 0
      },
      "text/plain": [
       "  0%|          | 0/25 [00:00<?, ?it/s]"
      ]
     },
     "metadata": {},
     "output_type": "display_data"
    },
    {
     "name": "stdout",
     "output_type": "stream",
     "text": [
      "Epoch [59/100]: Train loss: 0.1193, Valid loss: 0.0994\n",
      "Saving model with loss 0.0994\n"
     ]
    },
    {
     "data": {
      "application/vnd.jupyter.widget-view+json": {
       "model_id": "cf25439826024fb29cd09834eace22ca",
       "version_major": 2,
       "version_minor": 0
      },
      "text/plain": [
       "  0%|          | 0/25 [00:00<?, ?it/s]"
      ]
     },
     "metadata": {},
     "output_type": "display_data"
    },
    {
     "name": "stdout",
     "output_type": "stream",
     "text": [
      "Epoch [60/100]: Train loss: 0.1169, Valid loss: 0.0963\n",
      "Saving model with loss 0.0963\n"
     ]
    },
    {
     "data": {
      "application/vnd.jupyter.widget-view+json": {
       "model_id": "20f6f84738f048678ac04d731171579f",
       "version_major": 2,
       "version_minor": 0
      },
      "text/plain": [
       "  0%|          | 0/25 [00:00<?, ?it/s]"
      ]
     },
     "metadata": {},
     "output_type": "display_data"
    },
    {
     "name": "stdout",
     "output_type": "stream",
     "text": [
      "Epoch [61/100]: Train loss: 0.1157, Valid loss: 0.0980\n"
     ]
    },
    {
     "data": {
      "application/vnd.jupyter.widget-view+json": {
       "model_id": "df5da290a2d44b4abb06242b12d87b3a",
       "version_major": 2,
       "version_minor": 0
      },
      "text/plain": [
       "  0%|          | 0/25 [00:00<?, ?it/s]"
      ]
     },
     "metadata": {},
     "output_type": "display_data"
    },
    {
     "name": "stdout",
     "output_type": "stream",
     "text": [
      "Epoch [62/100]: Train loss: 0.1140, Valid loss: 0.0950\n",
      "Saving model with loss 0.0950\n"
     ]
    },
    {
     "data": {
      "application/vnd.jupyter.widget-view+json": {
       "model_id": "b6bf6aaa9e4544a8a09683c4ecd84a91",
       "version_major": 2,
       "version_minor": 0
      },
      "text/plain": [
       "  0%|          | 0/25 [00:00<?, ?it/s]"
      ]
     },
     "metadata": {},
     "output_type": "display_data"
    },
    {
     "name": "stdout",
     "output_type": "stream",
     "text": [
      "Epoch [63/100]: Train loss: 0.1119, Valid loss: 0.0944\n",
      "Saving model with loss 0.0944\n"
     ]
    },
    {
     "data": {
      "application/vnd.jupyter.widget-view+json": {
       "model_id": "76c05f3cf677477b8f676d641ee66449",
       "version_major": 2,
       "version_minor": 0
      },
      "text/plain": [
       "  0%|          | 0/25 [00:00<?, ?it/s]"
      ]
     },
     "metadata": {},
     "output_type": "display_data"
    },
    {
     "name": "stdout",
     "output_type": "stream",
     "text": [
      "Epoch [64/100]: Train loss: 0.1117, Valid loss: 0.0927\n",
      "Saving model with loss 0.0927\n"
     ]
    },
    {
     "data": {
      "application/vnd.jupyter.widget-view+json": {
       "model_id": "72727e1eeef64518bca33d34100b4772",
       "version_major": 2,
       "version_minor": 0
      },
      "text/plain": [
       "  0%|          | 0/25 [00:00<?, ?it/s]"
      ]
     },
     "metadata": {},
     "output_type": "display_data"
    },
    {
     "name": "stdout",
     "output_type": "stream",
     "text": [
      "Epoch [65/100]: Train loss: 0.1103, Valid loss: 0.0920\n",
      "Saving model with loss 0.0920\n"
     ]
    },
    {
     "data": {
      "application/vnd.jupyter.widget-view+json": {
       "model_id": "7dde27aa8b664841bbb290fca6da2f21",
       "version_major": 2,
       "version_minor": 0
      },
      "text/plain": [
       "  0%|          | 0/25 [00:00<?, ?it/s]"
      ]
     },
     "metadata": {},
     "output_type": "display_data"
    },
    {
     "name": "stdout",
     "output_type": "stream",
     "text": [
      "Epoch [66/100]: Train loss: 0.1073, Valid loss: 0.0909\n",
      "Saving model with loss 0.0909\n"
     ]
    },
    {
     "data": {
      "application/vnd.jupyter.widget-view+json": {
       "model_id": "d72106133d694d61bc92d68be3c7da79",
       "version_major": 2,
       "version_minor": 0
      },
      "text/plain": [
       "  0%|          | 0/25 [00:00<?, ?it/s]"
      ]
     },
     "metadata": {},
     "output_type": "display_data"
    },
    {
     "name": "stdout",
     "output_type": "stream",
     "text": [
      "Epoch [67/100]: Train loss: 0.1074, Valid loss: 0.0909\n"
     ]
    },
    {
     "data": {
      "application/vnd.jupyter.widget-view+json": {
       "model_id": "d2f9d15a97c94ef28c61e7bf66cad7f3",
       "version_major": 2,
       "version_minor": 0
      },
      "text/plain": [
       "  0%|          | 0/25 [00:00<?, ?it/s]"
      ]
     },
     "metadata": {},
     "output_type": "display_data"
    },
    {
     "name": "stdout",
     "output_type": "stream",
     "text": [
      "Epoch [68/100]: Train loss: 0.1050, Valid loss: 0.0871\n",
      "Saving model with loss 0.0871\n"
     ]
    },
    {
     "data": {
      "application/vnd.jupyter.widget-view+json": {
       "model_id": "63400943592e4d26acba7f738559cb71",
       "version_major": 2,
       "version_minor": 0
      },
      "text/plain": [
       "  0%|          | 0/25 [00:00<?, ?it/s]"
      ]
     },
     "metadata": {},
     "output_type": "display_data"
    },
    {
     "name": "stdout",
     "output_type": "stream",
     "text": [
      "Epoch [69/100]: Train loss: 0.1045, Valid loss: 0.0874\n"
     ]
    },
    {
     "data": {
      "application/vnd.jupyter.widget-view+json": {
       "model_id": "a1b70d20075f4ca8aafa7d7b45679e3d",
       "version_major": 2,
       "version_minor": 0
      },
      "text/plain": [
       "  0%|          | 0/25 [00:00<?, ?it/s]"
      ]
     },
     "metadata": {},
     "output_type": "display_data"
    },
    {
     "name": "stdout",
     "output_type": "stream",
     "text": [
      "Epoch [70/100]: Train loss: 0.1023, Valid loss: 0.0855\n",
      "Saving model with loss 0.0855\n"
     ]
    },
    {
     "data": {
      "application/vnd.jupyter.widget-view+json": {
       "model_id": "f0e550eec2a542c3b7f761bd2a2876c7",
       "version_major": 2,
       "version_minor": 0
      },
      "text/plain": [
       "  0%|          | 0/25 [00:00<?, ?it/s]"
      ]
     },
     "metadata": {},
     "output_type": "display_data"
    },
    {
     "name": "stdout",
     "output_type": "stream",
     "text": [
      "Epoch [71/100]: Train loss: 0.1009, Valid loss: 0.0853\n",
      "Saving model with loss 0.0853\n"
     ]
    },
    {
     "data": {
      "application/vnd.jupyter.widget-view+json": {
       "model_id": "679acb11666b437cb5d1bb26cdd3f958",
       "version_major": 2,
       "version_minor": 0
      },
      "text/plain": [
       "  0%|          | 0/25 [00:00<?, ?it/s]"
      ]
     },
     "metadata": {},
     "output_type": "display_data"
    },
    {
     "name": "stdout",
     "output_type": "stream",
     "text": [
      "Epoch [72/100]: Train loss: 0.0998, Valid loss: 0.0829\n",
      "Saving model with loss 0.0829\n"
     ]
    },
    {
     "data": {
      "application/vnd.jupyter.widget-view+json": {
       "model_id": "2c64b2fc38844ef9aa758c05eca6a2b6",
       "version_major": 2,
       "version_minor": 0
      },
      "text/plain": [
       "  0%|          | 0/25 [00:00<?, ?it/s]"
      ]
     },
     "metadata": {},
     "output_type": "display_data"
    },
    {
     "name": "stdout",
     "output_type": "stream",
     "text": [
      "Epoch [73/100]: Train loss: 0.0994, Valid loss: 0.0829\n",
      "Saving model with loss 0.0829\n"
     ]
    },
    {
     "data": {
      "application/vnd.jupyter.widget-view+json": {
       "model_id": "ae8792eb531d4351a6d022a36589f0a8",
       "version_major": 2,
       "version_minor": 0
      },
      "text/plain": [
       "  0%|          | 0/25 [00:00<?, ?it/s]"
      ]
     },
     "metadata": {},
     "output_type": "display_data"
    },
    {
     "name": "stdout",
     "output_type": "stream",
     "text": [
      "Epoch [74/100]: Train loss: 0.0984, Valid loss: 0.0814\n",
      "Saving model with loss 0.0814\n"
     ]
    },
    {
     "data": {
      "application/vnd.jupyter.widget-view+json": {
       "model_id": "4b3f4caf9bcd4c3d825a57de569e646e",
       "version_major": 2,
       "version_minor": 0
      },
      "text/plain": [
       "  0%|          | 0/25 [00:00<?, ?it/s]"
      ]
     },
     "metadata": {},
     "output_type": "display_data"
    },
    {
     "name": "stdout",
     "output_type": "stream",
     "text": [
      "Epoch [75/100]: Train loss: 0.0975, Valid loss: 0.0852\n"
     ]
    },
    {
     "data": {
      "application/vnd.jupyter.widget-view+json": {
       "model_id": "814ff56351e14408b942ba5a789ce4f0",
       "version_major": 2,
       "version_minor": 0
      },
      "text/plain": [
       "  0%|          | 0/25 [00:00<?, ?it/s]"
      ]
     },
     "metadata": {},
     "output_type": "display_data"
    },
    {
     "name": "stdout",
     "output_type": "stream",
     "text": [
      "Epoch [76/100]: Train loss: 0.0958, Valid loss: 0.0812\n",
      "Saving model with loss 0.0812\n"
     ]
    },
    {
     "data": {
      "application/vnd.jupyter.widget-view+json": {
       "model_id": "693fe628e3ae426abaa237f96f669a45",
       "version_major": 2,
       "version_minor": 0
      },
      "text/plain": [
       "  0%|          | 0/25 [00:00<?, ?it/s]"
      ]
     },
     "metadata": {},
     "output_type": "display_data"
    },
    {
     "name": "stdout",
     "output_type": "stream",
     "text": [
      "Epoch [77/100]: Train loss: 0.0950, Valid loss: 0.0806\n",
      "Saving model with loss 0.0806\n"
     ]
    },
    {
     "data": {
      "application/vnd.jupyter.widget-view+json": {
       "model_id": "eeea2ba20feb4e719d348513ba791e83",
       "version_major": 2,
       "version_minor": 0
      },
      "text/plain": [
       "  0%|          | 0/25 [00:00<?, ?it/s]"
      ]
     },
     "metadata": {},
     "output_type": "display_data"
    },
    {
     "name": "stdout",
     "output_type": "stream",
     "text": [
      "Epoch [78/100]: Train loss: 0.0936, Valid loss: 0.0828\n"
     ]
    },
    {
     "data": {
      "application/vnd.jupyter.widget-view+json": {
       "model_id": "65c1d123c42d400aaae7e5f713f134a1",
       "version_major": 2,
       "version_minor": 0
      },
      "text/plain": [
       "  0%|          | 0/25 [00:00<?, ?it/s]"
      ]
     },
     "metadata": {},
     "output_type": "display_data"
    },
    {
     "name": "stdout",
     "output_type": "stream",
     "text": [
      "Epoch [79/100]: Train loss: 0.0942, Valid loss: 0.0815\n"
     ]
    },
    {
     "data": {
      "application/vnd.jupyter.widget-view+json": {
       "model_id": "e7629ce057fc46ffa390bdb69b38fe6e",
       "version_major": 2,
       "version_minor": 0
      },
      "text/plain": [
       "  0%|          | 0/25 [00:00<?, ?it/s]"
      ]
     },
     "metadata": {},
     "output_type": "display_data"
    },
    {
     "name": "stdout",
     "output_type": "stream",
     "text": [
      "Epoch [80/100]: Train loss: 0.0927, Valid loss: 0.0788\n",
      "Saving model with loss 0.0788\n"
     ]
    },
    {
     "data": {
      "application/vnd.jupyter.widget-view+json": {
       "model_id": "4f038411d08f4a05af03531a2551153a",
       "version_major": 2,
       "version_minor": 0
      },
      "text/plain": [
       "  0%|          | 0/25 [00:00<?, ?it/s]"
      ]
     },
     "metadata": {},
     "output_type": "display_data"
    },
    {
     "name": "stdout",
     "output_type": "stream",
     "text": [
      "Epoch [81/100]: Train loss: 0.0926, Valid loss: 0.0780\n",
      "Saving model with loss 0.0780\n"
     ]
    },
    {
     "data": {
      "application/vnd.jupyter.widget-view+json": {
       "model_id": "e8fcec470cfe47b78f911a31a4f7781c",
       "version_major": 2,
       "version_minor": 0
      },
      "text/plain": [
       "  0%|          | 0/25 [00:00<?, ?it/s]"
      ]
     },
     "metadata": {},
     "output_type": "display_data"
    },
    {
     "name": "stdout",
     "output_type": "stream",
     "text": [
      "Epoch [82/100]: Train loss: 0.0908, Valid loss: 0.0796\n"
     ]
    },
    {
     "data": {
      "application/vnd.jupyter.widget-view+json": {
       "model_id": "e0621c32b11c45c3b6bb183ce6a29554",
       "version_major": 2,
       "version_minor": 0
      },
      "text/plain": [
       "  0%|          | 0/25 [00:00<?, ?it/s]"
      ]
     },
     "metadata": {},
     "output_type": "display_data"
    },
    {
     "name": "stdout",
     "output_type": "stream",
     "text": [
      "Epoch [83/100]: Train loss: 0.0898, Valid loss: 0.0778\n",
      "Saving model with loss 0.0778\n"
     ]
    },
    {
     "data": {
      "application/vnd.jupyter.widget-view+json": {
       "model_id": "297ae28fd576498e9df1f5bf5f1d3b93",
       "version_major": 2,
       "version_minor": 0
      },
      "text/plain": [
       "  0%|          | 0/25 [00:00<?, ?it/s]"
      ]
     },
     "metadata": {},
     "output_type": "display_data"
    },
    {
     "name": "stdout",
     "output_type": "stream",
     "text": [
      "Epoch [84/100]: Train loss: 0.0892, Valid loss: 0.0789\n"
     ]
    },
    {
     "data": {
      "application/vnd.jupyter.widget-view+json": {
       "model_id": "54bddb2b9eb6467281ec3371dd8d2d3c",
       "version_major": 2,
       "version_minor": 0
      },
      "text/plain": [
       "  0%|          | 0/25 [00:00<?, ?it/s]"
      ]
     },
     "metadata": {},
     "output_type": "display_data"
    },
    {
     "name": "stdout",
     "output_type": "stream",
     "text": [
      "Epoch [85/100]: Train loss: 0.0891, Valid loss: 0.0783\n"
     ]
    },
    {
     "data": {
      "application/vnd.jupyter.widget-view+json": {
       "model_id": "e0b69969a810424a93f7f2f8bb0d731e",
       "version_major": 2,
       "version_minor": 0
      },
      "text/plain": [
       "  0%|          | 0/25 [00:00<?, ?it/s]"
      ]
     },
     "metadata": {},
     "output_type": "display_data"
    },
    {
     "name": "stdout",
     "output_type": "stream",
     "text": [
      "Epoch [86/100]: Train loss: 0.0883, Valid loss: 0.0777\n",
      "Saving model with loss 0.0777\n"
     ]
    },
    {
     "data": {
      "application/vnd.jupyter.widget-view+json": {
       "model_id": "20548407502f4e9d9107d955df48b0ba",
       "version_major": 2,
       "version_minor": 0
      },
      "text/plain": [
       "  0%|          | 0/25 [00:00<?, ?it/s]"
      ]
     },
     "metadata": {},
     "output_type": "display_data"
    },
    {
     "name": "stdout",
     "output_type": "stream",
     "text": [
      "Epoch [87/100]: Train loss: 0.0871, Valid loss: 0.0763\n",
      "Saving model with loss 0.0763\n"
     ]
    },
    {
     "data": {
      "application/vnd.jupyter.widget-view+json": {
       "model_id": "ac2de2af7300481bb5e66a1e9405148f",
       "version_major": 2,
       "version_minor": 0
      },
      "text/plain": [
       "  0%|          | 0/25 [00:00<?, ?it/s]"
      ]
     },
     "metadata": {},
     "output_type": "display_data"
    },
    {
     "name": "stdout",
     "output_type": "stream",
     "text": [
      "Epoch [88/100]: Train loss: 0.0866, Valid loss: 0.0760\n",
      "Saving model with loss 0.0760\n"
     ]
    },
    {
     "data": {
      "application/vnd.jupyter.widget-view+json": {
       "model_id": "818c30c1047d4bdb9d89f61ff339360b",
       "version_major": 2,
       "version_minor": 0
      },
      "text/plain": [
       "  0%|          | 0/25 [00:00<?, ?it/s]"
      ]
     },
     "metadata": {},
     "output_type": "display_data"
    },
    {
     "name": "stdout",
     "output_type": "stream",
     "text": [
      "Epoch [89/100]: Train loss: 0.0865, Valid loss: 0.0752\n",
      "Saving model with loss 0.0752\n"
     ]
    },
    {
     "data": {
      "application/vnd.jupyter.widget-view+json": {
       "model_id": "914bd3f8681d4a5596a7e4e6106d853d",
       "version_major": 2,
       "version_minor": 0
      },
      "text/plain": [
       "  0%|          | 0/25 [00:00<?, ?it/s]"
      ]
     },
     "metadata": {},
     "output_type": "display_data"
    },
    {
     "name": "stdout",
     "output_type": "stream",
     "text": [
      "Epoch [90/100]: Train loss: 0.0855, Valid loss: 0.0754\n"
     ]
    },
    {
     "data": {
      "application/vnd.jupyter.widget-view+json": {
       "model_id": "4f6e54bc67b3494d95104a4fb2e4370c",
       "version_major": 2,
       "version_minor": 0
      },
      "text/plain": [
       "  0%|          | 0/25 [00:00<?, ?it/s]"
      ]
     },
     "metadata": {},
     "output_type": "display_data"
    },
    {
     "name": "stdout",
     "output_type": "stream",
     "text": [
      "Epoch [91/100]: Train loss: 0.0846, Valid loss: 0.0743\n",
      "Saving model with loss 0.0743\n"
     ]
    },
    {
     "data": {
      "application/vnd.jupyter.widget-view+json": {
       "model_id": "e733af47b9104bfb96db98516eb7cc89",
       "version_major": 2,
       "version_minor": 0
      },
      "text/plain": [
       "  0%|          | 0/25 [00:00<?, ?it/s]"
      ]
     },
     "metadata": {},
     "output_type": "display_data"
    },
    {
     "name": "stdout",
     "output_type": "stream",
     "text": [
      "Epoch [92/100]: Train loss: 0.0838, Valid loss: 0.0729\n",
      "Saving model with loss 0.0729\n"
     ]
    },
    {
     "data": {
      "application/vnd.jupyter.widget-view+json": {
       "model_id": "476eff670c1d44b6a7b02b6845cbfa7d",
       "version_major": 2,
       "version_minor": 0
      },
      "text/plain": [
       "  0%|          | 0/25 [00:00<?, ?it/s]"
      ]
     },
     "metadata": {},
     "output_type": "display_data"
    },
    {
     "name": "stdout",
     "output_type": "stream",
     "text": [
      "Epoch [93/100]: Train loss: 0.0832, Valid loss: 0.0721\n",
      "Saving model with loss 0.0721\n"
     ]
    },
    {
     "data": {
      "application/vnd.jupyter.widget-view+json": {
       "model_id": "cd113ac760e44f838d2f7728584a3b6c",
       "version_major": 2,
       "version_minor": 0
      },
      "text/plain": [
       "  0%|          | 0/25 [00:00<?, ?it/s]"
      ]
     },
     "metadata": {},
     "output_type": "display_data"
    },
    {
     "name": "stdout",
     "output_type": "stream",
     "text": [
      "Epoch [94/100]: Train loss: 0.0830, Valid loss: 0.0749\n"
     ]
    },
    {
     "data": {
      "application/vnd.jupyter.widget-view+json": {
       "model_id": "4f90397bb67a467e9827382b7bc566c3",
       "version_major": 2,
       "version_minor": 0
      },
      "text/plain": [
       "  0%|          | 0/25 [00:00<?, ?it/s]"
      ]
     },
     "metadata": {},
     "output_type": "display_data"
    },
    {
     "name": "stdout",
     "output_type": "stream",
     "text": [
      "Epoch [95/100]: Train loss: 0.0822, Valid loss: 0.0748\n"
     ]
    },
    {
     "data": {
      "application/vnd.jupyter.widget-view+json": {
       "model_id": "d5bb3ea62cf34a07ba0df3f2227e6f9c",
       "version_major": 2,
       "version_minor": 0
      },
      "text/plain": [
       "  0%|          | 0/25 [00:00<?, ?it/s]"
      ]
     },
     "metadata": {},
     "output_type": "display_data"
    },
    {
     "name": "stdout",
     "output_type": "stream",
     "text": [
      "Epoch [96/100]: Train loss: 0.0827, Valid loss: 0.0715\n",
      "Saving model with loss 0.0715\n"
     ]
    },
    {
     "data": {
      "application/vnd.jupyter.widget-view+json": {
       "model_id": "3a5357387dee4951b0bdb528e7e7aa5c",
       "version_major": 2,
       "version_minor": 0
      },
      "text/plain": [
       "  0%|          | 0/25 [00:00<?, ?it/s]"
      ]
     },
     "metadata": {},
     "output_type": "display_data"
    },
    {
     "name": "stdout",
     "output_type": "stream",
     "text": [
      "Epoch [97/100]: Train loss: 0.0824, Valid loss: 0.0743\n"
     ]
    },
    {
     "data": {
      "application/vnd.jupyter.widget-view+json": {
       "model_id": "fdf1daaa840d4b9c98ead78e559832f8",
       "version_major": 2,
       "version_minor": 0
      },
      "text/plain": [
       "  0%|          | 0/25 [00:00<?, ?it/s]"
      ]
     },
     "metadata": {},
     "output_type": "display_data"
    },
    {
     "name": "stdout",
     "output_type": "stream",
     "text": [
      "Epoch [98/100]: Train loss: 0.0804, Valid loss: 0.0715\n"
     ]
    },
    {
     "data": {
      "application/vnd.jupyter.widget-view+json": {
       "model_id": "ed7692a3ce524217b1e8ddb6bce2ad5f",
       "version_major": 2,
       "version_minor": 0
      },
      "text/plain": [
       "  0%|          | 0/25 [00:00<?, ?it/s]"
      ]
     },
     "metadata": {},
     "output_type": "display_data"
    },
    {
     "name": "stdout",
     "output_type": "stream",
     "text": [
      "Epoch [99/100]: Train loss: 0.0803, Valid loss: 0.0729\n"
     ]
    },
    {
     "data": {
      "application/vnd.jupyter.widget-view+json": {
       "model_id": "8cc19c7208cd4b3598e87d8bb92c5ab8",
       "version_major": 2,
       "version_minor": 0
      },
      "text/plain": [
       "  0%|          | 0/25 [00:00<?, ?it/s]"
      ]
     },
     "metadata": {},
     "output_type": "display_data"
    },
    {
     "name": "stdout",
     "output_type": "stream",
     "text": [
      "Epoch [100/100]: Train loss: 0.0798, Valid loss: 0.0708\n",
      "Saving model with loss 0.0708\n"
     ]
    },
    {
     "data": {
      "image/png": "[encoded data removed]",
      "text/plain": [
       "<Figure size 1200x500 with 2 Axes>"
      ]
     },
     "metadata": {},
     "output_type": "display_data"
    }
   ],
   "source": [
    "student_model = SimpleModel().to(device)\n",
    "final_train_student(labeled_train_loader, valid_loader, student_model, teacher_model, \"Student\", epochs_num = num_epoch)"
   ]
  },
  {
   "cell_type": "code",
   "execution_count": 35,
   "id": "golden-uzbekistan",
   "metadata": {},
   "outputs": [
    {
     "name": "stdout",
     "output_type": "stream",
     "text": [
      "\n",
      "now we can test the accuracy in the test set: \n",
      "test acc: 0.9232464193903782\n"
     ]
    }
   ],
   "source": [
    "# Test student 測試集Acc\n",
    "test_acc = 0\n",
    "student_model = SimpleModel().to(device)\n",
    "student_model.load_state_dict(torch.load(config['save_path_small']))\n",
    "student_model.eval()\n",
    "with torch.no_grad():\n",
    "    print(\"\\nnow we can test the accuracy in the test set: \")\n",
    "    for datas, labels, _ in test_loader:\n",
    "        datas, labels = datas.to(device), labels.to(device)\n",
    "        outputs = student_model(datas)\n",
    "        _, test_pred = torch.max(outputs, 1)\n",
    "        test_acc += (test_pred.cpu() == labels.cpu()).sum().item() # get the index of the class with the highest probability\n",
    "    print(f\"test acc: {test_acc/(len(dataset_test))}\")"
   ]
  },
  {
   "cell_type": "code",
   "execution_count": 36,
   "id": "adjacent-professional",
   "metadata": {},
   "outputs": [
    {
     "name": "stdout",
     "output_type": "stream",
     "text": [
      "Collecting torchinfo\n",
      "  Obtaining dependency information for torchinfo from https://files.pythonhosted.org/packages/72/25/973bd6128381951b23cdcd8a9870c6dcfc5606cb864df8eabd82e529f9c1/torchinfo-1.8.0-py3-none-any.whl.metadata\n",
      "  Downloading torchinfo-1.8.0-py3-none-any.whl.metadata (21 kB)\n",
      "Downloading torchinfo-1.8.0-py3-none-any.whl (23 kB)\n",
      "Installing collected packages: torchinfo\n",
      "Successfully installed torchinfo-1.8.0\n"
     ]
    }
   ],
   "source": [
    "!pip install torchinfo"
   ]
  },
  {
   "cell_type": "code",
   "execution_count": 37,
   "id": "yellow-vatican",
   "metadata": {},
   "outputs": [
    {
     "data": {
      "text/plain": [
       "==========================================================================================\n",
       "Layer (type:depth-idx)                   Output Shape              Param #\n",
       "==========================================================================================\n",
       "ComplexModel                             [16, 7]                   600\n",
       "├─Linear: 1-1                            [16, 216]                 3,672\n",
       "├─LeakyReLU: 1-2                         [16, 216]                 --\n",
       "├─Dropout: 1-3                           [16, 216]                 --\n",
       "├─Linear: 1-4                            [16, 128]                 27,776\n",
       "├─ReLU: 1-5                              [16, 128]                 --\n",
       "├─Dropout: 1-6                           [16, 128]                 --\n",
       "├─Linear: 1-7                            [16, 42]                  5,418\n",
       "├─ReLU: 1-8                              [16, 42]                  --\n",
       "├─Linear: 1-9                            [16, 7]                   301\n",
       "==========================================================================================\n",
       "Total params: 37,767\n",
       "Trainable params: 37,767\n",
       "Non-trainable params: 0\n",
       "Total mult-adds (Units.MEGABYTES): 0.59\n",
       "==========================================================================================\n",
       "Input size (MB): 0.00\n",
       "Forward/backward pass size (MB): 0.05\n",
       "Params size (MB): 0.15\n",
       "Estimated Total Size (MB): 0.20\n",
       "=========================================================================================="
      ]
     },
     "execution_count": 37,
     "metadata": {},
     "output_type": "execute_result"
    }
   ],
   "source": [
    "from torchinfo import summary\n",
    "summary(teacher_model, input_size=(config['batch_size'],16))"
   ]
  },
  {
   "cell_type": "code",
   "execution_count": 38,
   "id": "honest-explosion",
   "metadata": {},
   "outputs": [
    {
     "data": {
      "text/plain": [
       "==========================================================================================\n",
       "Layer (type:depth-idx)                   Output Shape              Param #\n",
       "==========================================================================================\n",
       "SimpleModel                              [16, 7]                   --\n",
       "├─Linear: 1-1                            [16, 42]                  714\n",
       "├─ReLU: 1-2                              [16, 42]                  --\n",
       "├─Linear: 1-3                            [16, 7]                   301\n",
       "==========================================================================================\n",
       "Total params: 1,015\n",
       "Trainable params: 1,015\n",
       "Non-trainable params: 0\n",
       "Total mult-adds (Units.MEGABYTES): 0.02\n",
       "==========================================================================================\n",
       "Input size (MB): 0.00\n",
       "Forward/backward pass size (MB): 0.01\n",
       "Params size (MB): 0.00\n",
       "Estimated Total Size (MB): 0.01\n",
       "=========================================================================================="
      ]
     },
     "execution_count": 38,
     "metadata": {},
     "output_type": "execute_result"
    }
   ],
   "source": [
    "summary(student_model, input_size=(config['batch_size'],16))"
   ]
  }
 ],
 "metadata": {
  "kernelspec": {
   "display_name": "colabtolocaltest",
   "language": "python",
   "name": "colabtolocaltest"
  },
  "language_info": {
   "codemirror_mode": {
    "name": "ipython",
    "version": 3
   },
   "file_extension": ".py",
   "mimetype": "text/x-python",
   "name": "python",
   "nbconvert_exporter": "python",
   "pygments_lexer": "ipython3",
   "version": "3.11.4"
  }
 },
 "nbformat": 4,
 "nbformat_minor": 5
}
